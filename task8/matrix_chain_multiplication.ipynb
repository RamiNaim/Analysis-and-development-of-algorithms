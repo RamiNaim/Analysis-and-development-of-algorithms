{
 "cells": [
  {
   "cell_type": "code",
   "execution_count": 1,
   "metadata": {},
   "outputs": [],
   "source": [
    "import numpy as np"
   ]
  },
  {
   "cell_type": "code",
   "execution_count": 2,
   "metadata": {},
   "outputs": [],
   "source": [
    "def matrix_chain_order(p):\n",
    "    n = len(p) - 1\n",
    "    m = np.diag([0]*n).astype(np.float)\n",
    "    s = np.zeros((n, n))\n",
    "    \n",
    "    for l in range(2, n+2):\n",
    "        for i in range(1, n-l+2):\n",
    "            j = i + l - 1\n",
    "            m[i-1, j-1] = np.inf\n",
    "            for k in range(i, j):\n",
    "                q = m[i-1, k-1] + m[k, j-1] + p[i-1] * p[k] * p[j]\n",
    "                if q < m[i-1, j-1]:\n",
    "                    m[i-1, j-1] = q\n",
    "                    s[i-1, j-1] = k\n",
    "    \n",
    "    return m.astype(np.int), s.astype(np.int)\n",
    "\n",
    "def print_optimal_chain(s, i, j):\n",
    "    if i == j:\n",
    "        print(f\"A{i} \", end=\"\")\n",
    "    else:\n",
    "        print(\"(\", end=\"\")\n",
    "        print_optimal_chain(s, i, s[i-1, j-1])\n",
    "        print_optimal_chain(s, s[i-1, j-1] + 1, j)\n",
    "        print(\")\", end=\"\")\n",
    "        \n",
    "def naive_mult(a, b):\n",
    "    \n",
    "    global num_of_mult\n",
    "    \n",
    "    n_rows = a.shape[0]\n",
    "    n_cols = b.shape[1]\n",
    "    res = np.zeros((n_rows, n_cols))\n",
    "    \n",
    "    for i in range(n_rows):\n",
    "        for j in range(n_cols):\n",
    "            for k in range( a.shape[1] ):\n",
    "                res[i, j] += a[i, k] * b[k, j]\n",
    "                num_of_mult +=1\n",
    "    \n",
    "    return res    \n",
    "    \n",
    "def optimal_multiply(s, i, j):\n",
    "    if i == j:\n",
    "        return matrices[i-1]\n",
    "    else:\n",
    "        return naive_mult( optimal_multiply(s, i, s[i-1, j-1]), optimal_multiply(s, s[i-1, j-1] + 1, j) )"
   ]
  },
  {
   "cell_type": "code",
   "execution_count": 73,
   "metadata": {},
   "outputs": [],
   "source": [
    "# p = [30, 35, 15, 5, 10, 20, 25]\n",
    "# p = [5, 10, 3, 12, 5, 50, 6]\n",
    "\n",
    "number_of_matrix = 10\n",
    "p = np.random.randint(10, 100, size=number_of_matrix + 1)\n",
    "m, s = matrix_chain_order(p)"
   ]
  },
  {
   "cell_type": "code",
   "execution_count": 74,
   "metadata": {
    "scrolled": true
   },
   "outputs": [],
   "source": [
    "m, s = matrix_chain_order(p)"
   ]
  },
  {
   "cell_type": "code",
   "execution_count": 75,
   "metadata": {},
   "outputs": [
    {
     "name": "stdout",
     "output_type": "stream",
     "text": [
      "((A1 A2 )((A3 (A4 A5 ))((((A6 A7 )A8 )A9 )A10 )))"
     ]
    }
   ],
   "source": [
    "print_optimal_chain(s, 1, number_of_matrix)"
   ]
  },
  {
   "cell_type": "code",
   "execution_count": 65,
   "metadata": {},
   "outputs": [],
   "source": [
    "matrices = []\n",
    "for i in range(len(p)-1):\n",
    "    matrices.append(np.random.rand(p[i], p[i+1]))"
   ]
  },
  {
   "cell_type": "code",
   "execution_count": 66,
   "metadata": {},
   "outputs": [
    {
     "data": {
      "text/plain": [
       "1381"
      ]
     },
     "execution_count": 66,
     "metadata": {},
     "output_type": "execute_result"
    }
   ],
   "source": [
    "1340+41"
   ]
  },
  {
   "cell_type": "code",
   "execution_count": 67,
   "metadata": {},
   "outputs": [
    {
     "name": "stdout",
     "output_type": "stream",
     "text": [
      "127 ms ± 38.6 ms per loop (mean ± std. dev. of 7 runs, 1 loop each)\n",
      "# of optimal multiplications 0\n"
     ]
    }
   ],
   "source": [
    "num_of_mult = 0\n",
    "%timeit -n1 opt_res = optimal_multiply(s, 1, number_of_matrix)\n",
    "opt_num_of_mult = num_of_mult\n",
    "print(f\"# of optimal multiplications {opt_num_of_mult}\")"
   ]
  },
  {
   "cell_type": "code",
   "execution_count": 68,
   "metadata": {},
   "outputs": [
    {
     "name": "stdout",
     "output_type": "stream",
     "text": [
      "182 ms ± 13.1 ms per loop (mean ± std. dev. of 7 runs, 1 loop each)\n"
     ]
    }
   ],
   "source": [
    "%%timeit -n1\n",
    "num_of_mult = 0\n",
    "res = matrices[0]\n",
    "for i in range(1, len(matrices)):\n",
    "    res = naive_mult(res, matrices[i])\n",
    "    \n",
    "# print(f\"# of naive multiplications {num_of_mult}\")"
   ]
  },
  {
   "cell_type": "code",
   "execution_count": 23,
   "metadata": {},
   "outputs": [
    {
     "data": {
      "text/plain": [
       "2.600107823977357"
      ]
     },
     "execution_count": 23,
     "metadata": {},
     "output_type": "execute_result"
    }
   ],
   "source": [
    "num_of_mult / opt_num_of_mult"
   ]
  },
  {
   "cell_type": "code",
   "execution_count": 16,
   "metadata": {},
   "outputs": [
    {
     "data": {
      "text/plain": [
       "1232355"
      ]
     },
     "execution_count": 16,
     "metadata": {},
     "output_type": "execute_result"
    }
   ],
   "source": [
    "m[0][-1]"
   ]
  },
  {
   "cell_type": "code",
   "execution_count": null,
   "metadata": {},
   "outputs": [],
   "source": []
  }
 ],
 "metadata": {
  "kernelspec": {
   "display_name": "Python 3",
   "language": "python",
   "name": "python3"
  },
  "language_info": {
   "codemirror_mode": {
    "name": "ipython",
    "version": 3
   },
   "file_extension": ".py",
   "mimetype": "text/x-python",
   "name": "python",
   "nbconvert_exporter": "python",
   "pygments_lexer": "ipython3",
   "version": "3.8.5"
  }
 },
 "nbformat": 4,
 "nbformat_minor": 4
}
