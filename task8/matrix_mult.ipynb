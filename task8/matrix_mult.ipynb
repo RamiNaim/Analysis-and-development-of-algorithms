{
 "cells": [
  {
   "cell_type": "code",
   "execution_count": 263,
   "metadata": {
    "ExecuteTime": {
     "end_time": "2020-10-29T16:43:33.531330Z",
     "start_time": "2020-10-29T16:43:33.526163Z"
    }
   },
   "outputs": [],
   "source": [
    "import numpy as np\n",
    "from copy import copy\n",
    "from multiprocessing import Pool"
   ]
  },
  {
   "cell_type": "code",
   "execution_count": 264,
   "metadata": {
    "ExecuteTime": {
     "end_time": "2020-10-29T16:43:35.646654Z",
     "start_time": "2020-10-29T16:43:35.547022Z"
    }
   },
   "outputs": [],
   "source": [
    "def naive_mult(a, b):\n",
    "    \n",
    "    n_rows = a.shape[0]\n",
    "    n_cols = b.shape[1]\n",
    "    res = np.zeros((n_rows, n_cols))\n",
    "    \n",
    "    for i in range(n_rows):\n",
    "        for j in range(n_cols):\n",
    "            for k in range( a.shape[1] ):\n",
    "                res[i, j] += a[i, k] * b[k, j]\n",
    "    \n",
    "    return res    \n",
    "\n",
    "class Split:\n",
    "    def init(self, i=0, j=0, step=0):\n",
    "        self.i = i\n",
    "        self.j = j\n",
    "        self.step = step\n",
    "    \n",
    "    def isscalar(self):\n",
    "        return self.step == 1\n",
    "        \n",
    "    def get_start(self):\n",
    "        return self.i, self.j\n",
    "\n",
    "    def to_str(self):\n",
    "        return f\"{self.i, self.j}, {self.step}\"\n",
    "    \n",
    "    def fetch_matrix(self, m):\n",
    "        return m[ self.i : self.i+self.step, self.j : self.j+self.step ]\n",
    "    \n",
    "def split_matrix(split):\n",
    "    step = split.step // 2\n",
    "    \n",
    "    top_left = Split()\n",
    "    top_left.i = split.i\n",
    "    top_left.j = split.j\n",
    "    top_left.step = step\n",
    "\n",
    "    top_right = Split()\n",
    "    top_right.i = split.i\n",
    "    top_right.j = split.j + step\n",
    "    top_right.step = step\n",
    "    \n",
    "    bottom_left = Split()\n",
    "    bottom_left.i = split.i + step\n",
    "    bottom_left.j = split.j\n",
    "    bottom_left.step = step\n",
    "    \n",
    "    bottom_right = Split()\n",
    "    bottom_right.i = split.i + step\n",
    "    bottom_right.j = split.j + step\n",
    "    bottom_right.step = step\n",
    "    \n",
    "    return np.array([[top_left, top_right], [bottom_left, bottom_right]])\n",
    "\n",
    "def recursive_mult(M_1, M_2, A_idx=None, B_idx=None):\n",
    "    n = min(M_1.shape[0], M_2.shape[0])\n",
    "    \n",
    "    if A_idx is None:\n",
    "        A_idx = Split()\n",
    "        A_idx.init()\n",
    "        A_idx.step = n\n",
    "    \n",
    "    if B_idx is None:\n",
    "        B_idx = Split()\n",
    "        B_idx.init()\n",
    "        B_idx.step = n\n",
    "        \n",
    "    def rMult(A_idx, B_idx):\n",
    "        if A_idx.isscalar():\n",
    "            C = np.array([[M_1[A_idx.get_start()] * M_2[B_idx.get_start()]]])\n",
    "        else:\n",
    "            new_A_split = split_matrix(A_idx)\n",
    "            new_B_split = split_matrix(B_idx)\n",
    "\n",
    "            C_tl = rMult(new_A_split[0, 0], new_B_split[0, 0]) + rMult(new_A_split[0, 1], new_B_split[1, 0])\n",
    "            C_tr = rMult(new_A_split[0, 0], new_B_split[0, 1]) + rMult(new_A_split[0, 1], new_B_split[1, 1])\n",
    "            C_bl = rMult(new_A_split[1, 0], new_B_split[0, 0]) + rMult(new_A_split[1, 1], new_B_split[1, 0])\n",
    "            C_br = rMult(new_A_split[1, 0], new_B_split[0, 1]) + rMult(new_A_split[1, 1], new_B_split[1, 1])\n",
    "\n",
    "            C = build_matrix([C_tl, C_tr, C_bl, C_br])\n",
    "        return C\n",
    "\n",
    "    return rMult(A_idx, B_idx)\n",
    "\n",
    "   \n",
    "def build_matrix(submatrices):\n",
    "    C_tl, C_tr, C_bl, C_br = submatrices\n",
    "    n = C_tl.shape[0]\n",
    "    new_n = n*2\n",
    "\n",
    "    new_C = np.zeros( (new_n, new_n) )\n",
    "    for i in range(n):\n",
    "        for j in range(n):\n",
    "            new_C[i, j] = C_tl[i, j]\n",
    "            new_C[i, j + n] = C_tr[i, j]\n",
    "            new_C[i + n, j] = C_bl[i, j]\n",
    "            new_C[i + n, j + n] = C_br[i, j]\n",
    "\n",
    "    return new_C\n",
    "    \n",
    "    \n",
    "def strassen(A, B):\n",
    "\n",
    "    def add(M, A_split, B_split):\n",
    "        step = A_split.step\n",
    "\n",
    "        res = np.zeros( (step, step) )\n",
    "        for i in range(step):\n",
    "            for j in range(step):\n",
    "                res[i, j] = M[A_split.i + i, A_split.j + j] + M[B_split.i + i, B_split.j + j]\n",
    "\n",
    "        return res\n",
    "\n",
    "    def substract(M, A_split, B_split):\n",
    "        step = A_split.step\n",
    "\n",
    "        res = np.zeros( (step, step) )\n",
    "        for i in range(step):\n",
    "            for j in range(step):\n",
    "                res[i, j] = M[A_split.i + i, A_split.j + j] - M[B_split.i + i, B_split.j + j]\n",
    "\n",
    "        return res\n",
    "    \n",
    "    n = A.shape[0]\n",
    "\n",
    "    A_s = Split()\n",
    "    A_s.init()\n",
    "    A_s.step = n\n",
    "    \n",
    "    B_s = Split()\n",
    "    B_s.init()\n",
    "    B_s.step = n\n",
    "    \n",
    "    A_split = split_matrix(A_s)\n",
    "    B_split = split_matrix(B_s)\n",
    "    \n",
    "    S_1 = substract(copy(B), B_split[0, 1], B_split[1, 1])\n",
    "    \n",
    "    S_2 = add(copy(A), A_split[0, 0], A_split[0, 1])\n",
    "    \n",
    "    S_3 = add(copy(A), A_split[1, 0], A_split[1, 1])\n",
    "    \n",
    "    S_4 = substract(copy(B), B_split[1, 0], B_split[0, 0])\n",
    "    \n",
    "    S_5 = add(copy(A), A_split[0, 0], A_split[1, 1])\n",
    "    \n",
    "    S_6 = add(copy(B), B_split[0, 0], B_split[1, 1])\n",
    "    \n",
    "    S_7 = substract(copy(A), A_split[0, 1], A_split[1, 1])\n",
    "    \n",
    "    S_8 = add(copy(B), B_split[1, 0], B_split[1, 1])\n",
    "    \n",
    "    S_9 = substract(copy(A), A_split[0, 0], A_split[1, 0])\n",
    "    \n",
    "    S_10 = add(copy(B), B_split[0, 0], B_split[0, 1])\n",
    "    \n",
    "    # Comment the recursive multiplication to speedup the algorithm\n",
    "    P_1 = recursive_mult(copy(A), copy(S_1), A_split[0, 0], None)\n",
    "    P_2 = recursive_mult(copy(S_2), copy(B), None, B_split[1, 1])\n",
    "    P_3 = recursive_mult(copy(S_3), copy(B), None, B_split[0, 0])\n",
    "    P_4 = recursive_mult(copy(A), copy(S_4), A_split[1, 1], None)\n",
    "    P_5 = recursive_mult(copy(S_5), copy(S_6))\n",
    "    P_6 = recursive_mult(copy(S_7), copy(S_8))\n",
    "    P_7 = recursive_mult(copy(S_9), copy(S_10))\n",
    "    \n",
    "    # Uncomment the following block for naive computation of P matrices\n",
    "    # to speedup the algoritm\n",
    "    \"\"\"\n",
    "    P_1 = naive_mult( A_split[0, 0].fetch_matrix(A), S_1 )\n",
    "    P_2 = naive_mult( S_2, B_split[1, 1].fetch_matrix(B) )\n",
    "    P_3 = naive_mult( S_3, B_split[0, 0].fetch_matrix(B) )\n",
    "    P_4 = naive_mult( A_split[1, 1].fetch_matrix(A), S_4 )\n",
    "    P_5 = naive_mult( S_5, S_6 )\n",
    "    P_6 = naive_mult( S_7, S_8 )\n",
    "    P_7 = naive_mult( S_9, S_10 )\n",
    "    \"\"\"\n",
    "    \n",
    "    C_11 = P_5 + P_4 - P_2 + P_6\n",
    "    C_12 = P_1 + P_2\n",
    "    C_21 = P_3 + P_4\n",
    "    C_22 = P_5 + P_1 - P_3 - P_7\n",
    "    \n",
    "    C = build_matrix([C_11, C_12, C_21, C_22])\n",
    "    \n",
    "    return C\n",
    "    \n",
    "    \n",
    "    \n",
    "def is_equal(a, b):\n",
    "    return (abs(strassen_res - naive_res) <= 10e-9).all()"
   ]
  },
  {
   "cell_type": "code",
   "execution_count": 265,
   "metadata": {
    "ExecuteTime": {
     "end_time": "2020-10-29T16:43:38.274919Z",
     "start_time": "2020-10-29T16:43:38.270307Z"
    }
   },
   "outputs": [],
   "source": [
    "n = 2\n",
    "A = np.random.rand(n, n)\n",
    "B = np.random.rand(n, n)\n",
    "\n",
    "strassen_res = strassen(A, B)\n",
    "naive_res = naive_mult(A, B)"
   ]
  },
  {
   "cell_type": "code",
   "execution_count": 184,
   "metadata": {
    "ExecuteTime": {
     "end_time": "2020-10-29T13:24:31.949595Z",
     "start_time": "2020-10-29T13:23:34.765468Z"
    }
   },
   "outputs": [
    {
     "name": "stdout",
     "output_type": "stream",
     "text": [
      "1.63 s ± 9.09 ms per loop (mean ± std. dev. of 7 runs, 5 loops each)\n"
     ]
    }
   ],
   "source": [
    "%timeit -n5 strassen_res = strassen(A, B)"
   ]
  },
  {
   "cell_type": "code",
   "execution_count": 185,
   "metadata": {
    "ExecuteTime": {
     "end_time": "2020-10-29T13:25:27.523747Z",
     "start_time": "2020-10-29T13:24:31.954021Z"
    }
   },
   "outputs": [
    {
     "name": "stdout",
     "output_type": "stream",
     "text": [
      "1.59 s ± 123 ms per loop (mean ± std. dev. of 7 runs, 5 loops each)\n"
     ]
    }
   ],
   "source": [
    "%timeit -n5 naive_res = naive_mult(A, B)"
   ]
  },
  {
   "cell_type": "code",
   "execution_count": 276,
   "metadata": {
    "ExecuteTime": {
     "end_time": "2020-10-29T17:06:26.112123Z",
     "start_time": "2020-10-29T16:49:36.880395Z"
    }
   },
   "outputs": [
    {
     "ename": "KeyboardInterrupt",
     "evalue": "",
     "output_type": "error",
     "traceback": [
      "\u001b[0;31m---------------------------------------------------------------------------\u001b[0m",
      "\u001b[0;31mKeyboardInterrupt\u001b[0m                         Traceback (most recent call last)",
      "\u001b[0;32m<ipython-input-276-d01d4b8c8782>\u001b[0m in \u001b[0;36m<module>\u001b[0;34m\u001b[0m\n\u001b[1;32m     10\u001b[0m     \u001b[0;32mfor\u001b[0m \u001b[0m_\u001b[0m \u001b[0;32min\u001b[0m \u001b[0mrange\u001b[0m\u001b[0;34m(\u001b[0m\u001b[0;36m10\u001b[0m\u001b[0;34m)\u001b[0m\u001b[0;34m:\u001b[0m\u001b[0;34m\u001b[0m\u001b[0;34m\u001b[0m\u001b[0m\n\u001b[1;32m     11\u001b[0m         \u001b[0mstart\u001b[0m \u001b[0;34m=\u001b[0m \u001b[0mtime\u001b[0m\u001b[0;34m(\u001b[0m\u001b[0;34m)\u001b[0m\u001b[0;34m*\u001b[0m\u001b[0;36m1000\u001b[0m\u001b[0;34m\u001b[0m\u001b[0;34m\u001b[0m\u001b[0m\n\u001b[0;32m---> 12\u001b[0;31m         \u001b[0mstrassen_res\u001b[0m \u001b[0;34m=\u001b[0m \u001b[0mstrassen\u001b[0m\u001b[0;34m(\u001b[0m\u001b[0mA\u001b[0m\u001b[0;34m,\u001b[0m \u001b[0mB\u001b[0m\u001b[0;34m)\u001b[0m\u001b[0;34m\u001b[0m\u001b[0;34m\u001b[0m\u001b[0m\n\u001b[0m\u001b[1;32m     13\u001b[0m         \u001b[0mt\u001b[0m \u001b[0;34m+=\u001b[0m \u001b[0;34m(\u001b[0m\u001b[0mtime\u001b[0m\u001b[0;34m(\u001b[0m\u001b[0;34m)\u001b[0m\u001b[0;34m*\u001b[0m\u001b[0;36m1000\u001b[0m \u001b[0;34m-\u001b[0m \u001b[0mstart\u001b[0m\u001b[0;34m)\u001b[0m\u001b[0;34m/\u001b[0m\u001b[0;36m5\u001b[0m\u001b[0;34m\u001b[0m\u001b[0;34m\u001b[0m\u001b[0m\n\u001b[1;32m     14\u001b[0m     \u001b[0mstats_strassen\u001b[0m\u001b[0;34m[\u001b[0m\u001b[0;34m'N'\u001b[0m\u001b[0;34m]\u001b[0m\u001b[0;34m.\u001b[0m\u001b[0mappend\u001b[0m\u001b[0;34m(\u001b[0m\u001b[0mn\u001b[0m\u001b[0;34m)\u001b[0m\u001b[0;34m\u001b[0m\u001b[0;34m\u001b[0m\u001b[0m\n",
      "\u001b[0;32m<ipython-input-264-10a20d27c032>\u001b[0m in \u001b[0;36mstrassen\u001b[0;34m(A, B)\u001b[0m\n\u001b[1;32m    180\u001b[0m     \u001b[0mP_4\u001b[0m \u001b[0;34m=\u001b[0m \u001b[0mrecursive_mult\u001b[0m\u001b[0;34m(\u001b[0m\u001b[0mcopy\u001b[0m\u001b[0;34m(\u001b[0m\u001b[0mA\u001b[0m\u001b[0;34m)\u001b[0m\u001b[0;34m,\u001b[0m \u001b[0mcopy\u001b[0m\u001b[0;34m(\u001b[0m\u001b[0mS_4\u001b[0m\u001b[0;34m)\u001b[0m\u001b[0;34m,\u001b[0m \u001b[0mA_split\u001b[0m\u001b[0;34m[\u001b[0m\u001b[0;36m1\u001b[0m\u001b[0;34m,\u001b[0m \u001b[0;36m1\u001b[0m\u001b[0;34m]\u001b[0m\u001b[0;34m,\u001b[0m \u001b[0;32mNone\u001b[0m\u001b[0;34m)\u001b[0m\u001b[0;34m\u001b[0m\u001b[0;34m\u001b[0m\u001b[0m\n\u001b[1;32m    181\u001b[0m     \u001b[0mP_5\u001b[0m \u001b[0;34m=\u001b[0m \u001b[0mrecursive_mult\u001b[0m\u001b[0;34m(\u001b[0m\u001b[0mcopy\u001b[0m\u001b[0;34m(\u001b[0m\u001b[0mS_5\u001b[0m\u001b[0;34m)\u001b[0m\u001b[0;34m,\u001b[0m \u001b[0mcopy\u001b[0m\u001b[0;34m(\u001b[0m\u001b[0mS_6\u001b[0m\u001b[0;34m)\u001b[0m\u001b[0;34m)\u001b[0m\u001b[0;34m\u001b[0m\u001b[0;34m\u001b[0m\u001b[0m\n\u001b[0;32m--> 182\u001b[0;31m     \u001b[0mP_6\u001b[0m \u001b[0;34m=\u001b[0m \u001b[0mrecursive_mult\u001b[0m\u001b[0;34m(\u001b[0m\u001b[0mcopy\u001b[0m\u001b[0;34m(\u001b[0m\u001b[0mS_7\u001b[0m\u001b[0;34m)\u001b[0m\u001b[0;34m,\u001b[0m \u001b[0mcopy\u001b[0m\u001b[0;34m(\u001b[0m\u001b[0mS_8\u001b[0m\u001b[0;34m)\u001b[0m\u001b[0;34m)\u001b[0m\u001b[0;34m\u001b[0m\u001b[0;34m\u001b[0m\u001b[0m\n\u001b[0m\u001b[1;32m    183\u001b[0m     \u001b[0mP_7\u001b[0m \u001b[0;34m=\u001b[0m \u001b[0mrecursive_mult\u001b[0m\u001b[0;34m(\u001b[0m\u001b[0mcopy\u001b[0m\u001b[0;34m(\u001b[0m\u001b[0mS_9\u001b[0m\u001b[0;34m)\u001b[0m\u001b[0;34m,\u001b[0m \u001b[0mcopy\u001b[0m\u001b[0;34m(\u001b[0m\u001b[0mS_10\u001b[0m\u001b[0;34m)\u001b[0m\u001b[0;34m)\u001b[0m\u001b[0;34m\u001b[0m\u001b[0;34m\u001b[0m\u001b[0m\n\u001b[1;32m    184\u001b[0m \u001b[0;34m\u001b[0m\u001b[0m\n",
      "\u001b[0;32m<ipython-input-264-10a20d27c032>\u001b[0m in \u001b[0;36mrecursive_mult\u001b[0;34m(M_1, M_2, A_idx, B_idx)\u001b[0m\n\u001b[1;32m    101\u001b[0m         \u001b[0;32mreturn\u001b[0m \u001b[0mC\u001b[0m\u001b[0;34m\u001b[0m\u001b[0;34m\u001b[0m\u001b[0m\n\u001b[1;32m    102\u001b[0m \u001b[0;34m\u001b[0m\u001b[0m\n\u001b[0;32m--> 103\u001b[0;31m     \u001b[0;32mreturn\u001b[0m \u001b[0mrMult\u001b[0m\u001b[0;34m(\u001b[0m\u001b[0mA_idx\u001b[0m\u001b[0;34m,\u001b[0m \u001b[0mB_idx\u001b[0m\u001b[0;34m)\u001b[0m\u001b[0;34m\u001b[0m\u001b[0;34m\u001b[0m\u001b[0m\n\u001b[0m\u001b[1;32m    104\u001b[0m \u001b[0;34m\u001b[0m\u001b[0m\n\u001b[1;32m    105\u001b[0m \u001b[0;34m\u001b[0m\u001b[0m\n",
      "\u001b[0;32m<ipython-input-264-10a20d27c032>\u001b[0m in \u001b[0;36mrMult\u001b[0;34m(A_idx, B_idx)\u001b[0m\n\u001b[1;32m     94\u001b[0m \u001b[0;34m\u001b[0m\u001b[0m\n\u001b[1;32m     95\u001b[0m             \u001b[0mC_tl\u001b[0m \u001b[0;34m=\u001b[0m \u001b[0mrMult\u001b[0m\u001b[0;34m(\u001b[0m\u001b[0mnew_A_split\u001b[0m\u001b[0;34m[\u001b[0m\u001b[0;36m0\u001b[0m\u001b[0;34m,\u001b[0m \u001b[0;36m0\u001b[0m\u001b[0;34m]\u001b[0m\u001b[0;34m,\u001b[0m \u001b[0mnew_B_split\u001b[0m\u001b[0;34m[\u001b[0m\u001b[0;36m0\u001b[0m\u001b[0;34m,\u001b[0m \u001b[0;36m0\u001b[0m\u001b[0;34m]\u001b[0m\u001b[0;34m)\u001b[0m \u001b[0;34m+\u001b[0m \u001b[0mrMult\u001b[0m\u001b[0;34m(\u001b[0m\u001b[0mnew_A_split\u001b[0m\u001b[0;34m[\u001b[0m\u001b[0;36m0\u001b[0m\u001b[0;34m,\u001b[0m \u001b[0;36m1\u001b[0m\u001b[0;34m]\u001b[0m\u001b[0;34m,\u001b[0m \u001b[0mnew_B_split\u001b[0m\u001b[0;34m[\u001b[0m\u001b[0;36m1\u001b[0m\u001b[0;34m,\u001b[0m \u001b[0;36m0\u001b[0m\u001b[0;34m]\u001b[0m\u001b[0;34m)\u001b[0m\u001b[0;34m\u001b[0m\u001b[0;34m\u001b[0m\u001b[0m\n\u001b[0;32m---> 96\u001b[0;31m             \u001b[0mC_tr\u001b[0m \u001b[0;34m=\u001b[0m \u001b[0mrMult\u001b[0m\u001b[0;34m(\u001b[0m\u001b[0mnew_A_split\u001b[0m\u001b[0;34m[\u001b[0m\u001b[0;36m0\u001b[0m\u001b[0;34m,\u001b[0m \u001b[0;36m0\u001b[0m\u001b[0;34m]\u001b[0m\u001b[0;34m,\u001b[0m \u001b[0mnew_B_split\u001b[0m\u001b[0;34m[\u001b[0m\u001b[0;36m0\u001b[0m\u001b[0;34m,\u001b[0m \u001b[0;36m1\u001b[0m\u001b[0;34m]\u001b[0m\u001b[0;34m)\u001b[0m \u001b[0;34m+\u001b[0m \u001b[0mrMult\u001b[0m\u001b[0;34m(\u001b[0m\u001b[0mnew_A_split\u001b[0m\u001b[0;34m[\u001b[0m\u001b[0;36m0\u001b[0m\u001b[0;34m,\u001b[0m \u001b[0;36m1\u001b[0m\u001b[0;34m]\u001b[0m\u001b[0;34m,\u001b[0m \u001b[0mnew_B_split\u001b[0m\u001b[0;34m[\u001b[0m\u001b[0;36m1\u001b[0m\u001b[0;34m,\u001b[0m \u001b[0;36m1\u001b[0m\u001b[0;34m]\u001b[0m\u001b[0;34m)\u001b[0m\u001b[0;34m\u001b[0m\u001b[0;34m\u001b[0m\u001b[0m\n\u001b[0m\u001b[1;32m     97\u001b[0m             \u001b[0mC_bl\u001b[0m \u001b[0;34m=\u001b[0m \u001b[0mrMult\u001b[0m\u001b[0;34m(\u001b[0m\u001b[0mnew_A_split\u001b[0m\u001b[0;34m[\u001b[0m\u001b[0;36m1\u001b[0m\u001b[0;34m,\u001b[0m \u001b[0;36m0\u001b[0m\u001b[0;34m]\u001b[0m\u001b[0;34m,\u001b[0m \u001b[0mnew_B_split\u001b[0m\u001b[0;34m[\u001b[0m\u001b[0;36m0\u001b[0m\u001b[0;34m,\u001b[0m \u001b[0;36m0\u001b[0m\u001b[0;34m]\u001b[0m\u001b[0;34m)\u001b[0m \u001b[0;34m+\u001b[0m \u001b[0mrMult\u001b[0m\u001b[0;34m(\u001b[0m\u001b[0mnew_A_split\u001b[0m\u001b[0;34m[\u001b[0m\u001b[0;36m1\u001b[0m\u001b[0;34m,\u001b[0m \u001b[0;36m1\u001b[0m\u001b[0;34m]\u001b[0m\u001b[0;34m,\u001b[0m \u001b[0mnew_B_split\u001b[0m\u001b[0;34m[\u001b[0m\u001b[0;36m1\u001b[0m\u001b[0;34m,\u001b[0m \u001b[0;36m0\u001b[0m\u001b[0;34m]\u001b[0m\u001b[0;34m)\u001b[0m\u001b[0;34m\u001b[0m\u001b[0;34m\u001b[0m\u001b[0m\n\u001b[1;32m     98\u001b[0m             \u001b[0mC_br\u001b[0m \u001b[0;34m=\u001b[0m \u001b[0mrMult\u001b[0m\u001b[0;34m(\u001b[0m\u001b[0mnew_A_split\u001b[0m\u001b[0;34m[\u001b[0m\u001b[0;36m1\u001b[0m\u001b[0;34m,\u001b[0m \u001b[0;36m0\u001b[0m\u001b[0;34m]\u001b[0m\u001b[0;34m,\u001b[0m \u001b[0mnew_B_split\u001b[0m\u001b[0;34m[\u001b[0m\u001b[0;36m0\u001b[0m\u001b[0;34m,\u001b[0m \u001b[0;36m1\u001b[0m\u001b[0;34m]\u001b[0m\u001b[0;34m)\u001b[0m \u001b[0;34m+\u001b[0m \u001b[0mrMult\u001b[0m\u001b[0;34m(\u001b[0m\u001b[0mnew_A_split\u001b[0m\u001b[0;34m[\u001b[0m\u001b[0;36m1\u001b[0m\u001b[0;34m,\u001b[0m \u001b[0;36m1\u001b[0m\u001b[0;34m]\u001b[0m\u001b[0;34m,\u001b[0m \u001b[0mnew_B_split\u001b[0m\u001b[0;34m[\u001b[0m\u001b[0;36m1\u001b[0m\u001b[0;34m,\u001b[0m \u001b[0;36m1\u001b[0m\u001b[0;34m]\u001b[0m\u001b[0;34m)\u001b[0m\u001b[0;34m\u001b[0m\u001b[0;34m\u001b[0m\u001b[0m\n",
      "\u001b[0;32m<ipython-input-264-10a20d27c032>\u001b[0m in \u001b[0;36mrMult\u001b[0;34m(A_idx, B_idx)\u001b[0m\n\u001b[1;32m     95\u001b[0m             \u001b[0mC_tl\u001b[0m \u001b[0;34m=\u001b[0m \u001b[0mrMult\u001b[0m\u001b[0;34m(\u001b[0m\u001b[0mnew_A_split\u001b[0m\u001b[0;34m[\u001b[0m\u001b[0;36m0\u001b[0m\u001b[0;34m,\u001b[0m \u001b[0;36m0\u001b[0m\u001b[0;34m]\u001b[0m\u001b[0;34m,\u001b[0m \u001b[0mnew_B_split\u001b[0m\u001b[0;34m[\u001b[0m\u001b[0;36m0\u001b[0m\u001b[0;34m,\u001b[0m \u001b[0;36m0\u001b[0m\u001b[0;34m]\u001b[0m\u001b[0;34m)\u001b[0m \u001b[0;34m+\u001b[0m \u001b[0mrMult\u001b[0m\u001b[0;34m(\u001b[0m\u001b[0mnew_A_split\u001b[0m\u001b[0;34m[\u001b[0m\u001b[0;36m0\u001b[0m\u001b[0;34m,\u001b[0m \u001b[0;36m1\u001b[0m\u001b[0;34m]\u001b[0m\u001b[0;34m,\u001b[0m \u001b[0mnew_B_split\u001b[0m\u001b[0;34m[\u001b[0m\u001b[0;36m1\u001b[0m\u001b[0;34m,\u001b[0m \u001b[0;36m0\u001b[0m\u001b[0;34m]\u001b[0m\u001b[0;34m)\u001b[0m\u001b[0;34m\u001b[0m\u001b[0;34m\u001b[0m\u001b[0m\n\u001b[1;32m     96\u001b[0m             \u001b[0mC_tr\u001b[0m \u001b[0;34m=\u001b[0m \u001b[0mrMult\u001b[0m\u001b[0;34m(\u001b[0m\u001b[0mnew_A_split\u001b[0m\u001b[0;34m[\u001b[0m\u001b[0;36m0\u001b[0m\u001b[0;34m,\u001b[0m \u001b[0;36m0\u001b[0m\u001b[0;34m]\u001b[0m\u001b[0;34m,\u001b[0m \u001b[0mnew_B_split\u001b[0m\u001b[0;34m[\u001b[0m\u001b[0;36m0\u001b[0m\u001b[0;34m,\u001b[0m \u001b[0;36m1\u001b[0m\u001b[0;34m]\u001b[0m\u001b[0;34m)\u001b[0m \u001b[0;34m+\u001b[0m \u001b[0mrMult\u001b[0m\u001b[0;34m(\u001b[0m\u001b[0mnew_A_split\u001b[0m\u001b[0;34m[\u001b[0m\u001b[0;36m0\u001b[0m\u001b[0;34m,\u001b[0m \u001b[0;36m1\u001b[0m\u001b[0;34m]\u001b[0m\u001b[0;34m,\u001b[0m \u001b[0mnew_B_split\u001b[0m\u001b[0;34m[\u001b[0m\u001b[0;36m1\u001b[0m\u001b[0;34m,\u001b[0m \u001b[0;36m1\u001b[0m\u001b[0;34m]\u001b[0m\u001b[0;34m)\u001b[0m\u001b[0;34m\u001b[0m\u001b[0;34m\u001b[0m\u001b[0m\n\u001b[0;32m---> 97\u001b[0;31m             \u001b[0mC_bl\u001b[0m \u001b[0;34m=\u001b[0m \u001b[0mrMult\u001b[0m\u001b[0;34m(\u001b[0m\u001b[0mnew_A_split\u001b[0m\u001b[0;34m[\u001b[0m\u001b[0;36m1\u001b[0m\u001b[0;34m,\u001b[0m \u001b[0;36m0\u001b[0m\u001b[0;34m]\u001b[0m\u001b[0;34m,\u001b[0m \u001b[0mnew_B_split\u001b[0m\u001b[0;34m[\u001b[0m\u001b[0;36m0\u001b[0m\u001b[0;34m,\u001b[0m \u001b[0;36m0\u001b[0m\u001b[0;34m]\u001b[0m\u001b[0;34m)\u001b[0m \u001b[0;34m+\u001b[0m \u001b[0mrMult\u001b[0m\u001b[0;34m(\u001b[0m\u001b[0mnew_A_split\u001b[0m\u001b[0;34m[\u001b[0m\u001b[0;36m1\u001b[0m\u001b[0;34m,\u001b[0m \u001b[0;36m1\u001b[0m\u001b[0;34m]\u001b[0m\u001b[0;34m,\u001b[0m \u001b[0mnew_B_split\u001b[0m\u001b[0;34m[\u001b[0m\u001b[0;36m1\u001b[0m\u001b[0;34m,\u001b[0m \u001b[0;36m0\u001b[0m\u001b[0;34m]\u001b[0m\u001b[0;34m)\u001b[0m\u001b[0;34m\u001b[0m\u001b[0;34m\u001b[0m\u001b[0m\n\u001b[0m\u001b[1;32m     98\u001b[0m             \u001b[0mC_br\u001b[0m \u001b[0;34m=\u001b[0m \u001b[0mrMult\u001b[0m\u001b[0;34m(\u001b[0m\u001b[0mnew_A_split\u001b[0m\u001b[0;34m[\u001b[0m\u001b[0;36m1\u001b[0m\u001b[0;34m,\u001b[0m \u001b[0;36m0\u001b[0m\u001b[0;34m]\u001b[0m\u001b[0;34m,\u001b[0m \u001b[0mnew_B_split\u001b[0m\u001b[0;34m[\u001b[0m\u001b[0;36m0\u001b[0m\u001b[0;34m,\u001b[0m \u001b[0;36m1\u001b[0m\u001b[0;34m]\u001b[0m\u001b[0;34m)\u001b[0m \u001b[0;34m+\u001b[0m \u001b[0mrMult\u001b[0m\u001b[0;34m(\u001b[0m\u001b[0mnew_A_split\u001b[0m\u001b[0;34m[\u001b[0m\u001b[0;36m1\u001b[0m\u001b[0;34m,\u001b[0m \u001b[0;36m1\u001b[0m\u001b[0;34m]\u001b[0m\u001b[0;34m,\u001b[0m \u001b[0mnew_B_split\u001b[0m\u001b[0;34m[\u001b[0m\u001b[0;36m1\u001b[0m\u001b[0;34m,\u001b[0m \u001b[0;36m1\u001b[0m\u001b[0;34m]\u001b[0m\u001b[0;34m)\u001b[0m\u001b[0;34m\u001b[0m\u001b[0;34m\u001b[0m\u001b[0m\n\u001b[1;32m     99\u001b[0m \u001b[0;34m\u001b[0m\u001b[0m\n",
      "\u001b[0;32m<ipython-input-264-10a20d27c032>\u001b[0m in \u001b[0;36mrMult\u001b[0;34m(A_idx, B_idx)\u001b[0m\n\u001b[1;32m     95\u001b[0m             \u001b[0mC_tl\u001b[0m \u001b[0;34m=\u001b[0m \u001b[0mrMult\u001b[0m\u001b[0;34m(\u001b[0m\u001b[0mnew_A_split\u001b[0m\u001b[0;34m[\u001b[0m\u001b[0;36m0\u001b[0m\u001b[0;34m,\u001b[0m \u001b[0;36m0\u001b[0m\u001b[0;34m]\u001b[0m\u001b[0;34m,\u001b[0m \u001b[0mnew_B_split\u001b[0m\u001b[0;34m[\u001b[0m\u001b[0;36m0\u001b[0m\u001b[0;34m,\u001b[0m \u001b[0;36m0\u001b[0m\u001b[0;34m]\u001b[0m\u001b[0;34m)\u001b[0m \u001b[0;34m+\u001b[0m \u001b[0mrMult\u001b[0m\u001b[0;34m(\u001b[0m\u001b[0mnew_A_split\u001b[0m\u001b[0;34m[\u001b[0m\u001b[0;36m0\u001b[0m\u001b[0;34m,\u001b[0m \u001b[0;36m1\u001b[0m\u001b[0;34m]\u001b[0m\u001b[0;34m,\u001b[0m \u001b[0mnew_B_split\u001b[0m\u001b[0;34m[\u001b[0m\u001b[0;36m1\u001b[0m\u001b[0;34m,\u001b[0m \u001b[0;36m0\u001b[0m\u001b[0;34m]\u001b[0m\u001b[0;34m)\u001b[0m\u001b[0;34m\u001b[0m\u001b[0;34m\u001b[0m\u001b[0m\n\u001b[1;32m     96\u001b[0m             \u001b[0mC_tr\u001b[0m \u001b[0;34m=\u001b[0m \u001b[0mrMult\u001b[0m\u001b[0;34m(\u001b[0m\u001b[0mnew_A_split\u001b[0m\u001b[0;34m[\u001b[0m\u001b[0;36m0\u001b[0m\u001b[0;34m,\u001b[0m \u001b[0;36m0\u001b[0m\u001b[0;34m]\u001b[0m\u001b[0;34m,\u001b[0m \u001b[0mnew_B_split\u001b[0m\u001b[0;34m[\u001b[0m\u001b[0;36m0\u001b[0m\u001b[0;34m,\u001b[0m \u001b[0;36m1\u001b[0m\u001b[0;34m]\u001b[0m\u001b[0;34m)\u001b[0m \u001b[0;34m+\u001b[0m \u001b[0mrMult\u001b[0m\u001b[0;34m(\u001b[0m\u001b[0mnew_A_split\u001b[0m\u001b[0;34m[\u001b[0m\u001b[0;36m0\u001b[0m\u001b[0;34m,\u001b[0m \u001b[0;36m1\u001b[0m\u001b[0;34m]\u001b[0m\u001b[0;34m,\u001b[0m \u001b[0mnew_B_split\u001b[0m\u001b[0;34m[\u001b[0m\u001b[0;36m1\u001b[0m\u001b[0;34m,\u001b[0m \u001b[0;36m1\u001b[0m\u001b[0;34m]\u001b[0m\u001b[0;34m)\u001b[0m\u001b[0;34m\u001b[0m\u001b[0;34m\u001b[0m\u001b[0m\n\u001b[0;32m---> 97\u001b[0;31m             \u001b[0mC_bl\u001b[0m \u001b[0;34m=\u001b[0m \u001b[0mrMult\u001b[0m\u001b[0;34m(\u001b[0m\u001b[0mnew_A_split\u001b[0m\u001b[0;34m[\u001b[0m\u001b[0;36m1\u001b[0m\u001b[0;34m,\u001b[0m \u001b[0;36m0\u001b[0m\u001b[0;34m]\u001b[0m\u001b[0;34m,\u001b[0m \u001b[0mnew_B_split\u001b[0m\u001b[0;34m[\u001b[0m\u001b[0;36m0\u001b[0m\u001b[0;34m,\u001b[0m \u001b[0;36m0\u001b[0m\u001b[0;34m]\u001b[0m\u001b[0;34m)\u001b[0m \u001b[0;34m+\u001b[0m \u001b[0mrMult\u001b[0m\u001b[0;34m(\u001b[0m\u001b[0mnew_A_split\u001b[0m\u001b[0;34m[\u001b[0m\u001b[0;36m1\u001b[0m\u001b[0;34m,\u001b[0m \u001b[0;36m1\u001b[0m\u001b[0;34m]\u001b[0m\u001b[0;34m,\u001b[0m \u001b[0mnew_B_split\u001b[0m\u001b[0;34m[\u001b[0m\u001b[0;36m1\u001b[0m\u001b[0;34m,\u001b[0m \u001b[0;36m0\u001b[0m\u001b[0;34m]\u001b[0m\u001b[0;34m)\u001b[0m\u001b[0;34m\u001b[0m\u001b[0;34m\u001b[0m\u001b[0m\n\u001b[0m\u001b[1;32m     98\u001b[0m             \u001b[0mC_br\u001b[0m \u001b[0;34m=\u001b[0m \u001b[0mrMult\u001b[0m\u001b[0;34m(\u001b[0m\u001b[0mnew_A_split\u001b[0m\u001b[0;34m[\u001b[0m\u001b[0;36m1\u001b[0m\u001b[0;34m,\u001b[0m \u001b[0;36m0\u001b[0m\u001b[0;34m]\u001b[0m\u001b[0;34m,\u001b[0m \u001b[0mnew_B_split\u001b[0m\u001b[0;34m[\u001b[0m\u001b[0;36m0\u001b[0m\u001b[0;34m,\u001b[0m \u001b[0;36m1\u001b[0m\u001b[0;34m]\u001b[0m\u001b[0;34m)\u001b[0m \u001b[0;34m+\u001b[0m \u001b[0mrMult\u001b[0m\u001b[0;34m(\u001b[0m\u001b[0mnew_A_split\u001b[0m\u001b[0;34m[\u001b[0m\u001b[0;36m1\u001b[0m\u001b[0;34m,\u001b[0m \u001b[0;36m1\u001b[0m\u001b[0;34m]\u001b[0m\u001b[0;34m,\u001b[0m \u001b[0mnew_B_split\u001b[0m\u001b[0;34m[\u001b[0m\u001b[0;36m1\u001b[0m\u001b[0;34m,\u001b[0m \u001b[0;36m1\u001b[0m\u001b[0;34m]\u001b[0m\u001b[0;34m)\u001b[0m\u001b[0;34m\u001b[0m\u001b[0;34m\u001b[0m\u001b[0m\n\u001b[1;32m     99\u001b[0m \u001b[0;34m\u001b[0m\u001b[0m\n",
      "\u001b[0;32m<ipython-input-264-10a20d27c032>\u001b[0m in \u001b[0;36mrMult\u001b[0;34m(A_idx, B_idx)\u001b[0m\n\u001b[1;32m     96\u001b[0m             \u001b[0mC_tr\u001b[0m \u001b[0;34m=\u001b[0m \u001b[0mrMult\u001b[0m\u001b[0;34m(\u001b[0m\u001b[0mnew_A_split\u001b[0m\u001b[0;34m[\u001b[0m\u001b[0;36m0\u001b[0m\u001b[0;34m,\u001b[0m \u001b[0;36m0\u001b[0m\u001b[0;34m]\u001b[0m\u001b[0;34m,\u001b[0m \u001b[0mnew_B_split\u001b[0m\u001b[0;34m[\u001b[0m\u001b[0;36m0\u001b[0m\u001b[0;34m,\u001b[0m \u001b[0;36m1\u001b[0m\u001b[0;34m]\u001b[0m\u001b[0;34m)\u001b[0m \u001b[0;34m+\u001b[0m \u001b[0mrMult\u001b[0m\u001b[0;34m(\u001b[0m\u001b[0mnew_A_split\u001b[0m\u001b[0;34m[\u001b[0m\u001b[0;36m0\u001b[0m\u001b[0;34m,\u001b[0m \u001b[0;36m1\u001b[0m\u001b[0;34m]\u001b[0m\u001b[0;34m,\u001b[0m \u001b[0mnew_B_split\u001b[0m\u001b[0;34m[\u001b[0m\u001b[0;36m1\u001b[0m\u001b[0;34m,\u001b[0m \u001b[0;36m1\u001b[0m\u001b[0;34m]\u001b[0m\u001b[0;34m)\u001b[0m\u001b[0;34m\u001b[0m\u001b[0;34m\u001b[0m\u001b[0m\n\u001b[1;32m     97\u001b[0m             \u001b[0mC_bl\u001b[0m \u001b[0;34m=\u001b[0m \u001b[0mrMult\u001b[0m\u001b[0;34m(\u001b[0m\u001b[0mnew_A_split\u001b[0m\u001b[0;34m[\u001b[0m\u001b[0;36m1\u001b[0m\u001b[0;34m,\u001b[0m \u001b[0;36m0\u001b[0m\u001b[0;34m]\u001b[0m\u001b[0;34m,\u001b[0m \u001b[0mnew_B_split\u001b[0m\u001b[0;34m[\u001b[0m\u001b[0;36m0\u001b[0m\u001b[0;34m,\u001b[0m \u001b[0;36m0\u001b[0m\u001b[0;34m]\u001b[0m\u001b[0;34m)\u001b[0m \u001b[0;34m+\u001b[0m \u001b[0mrMult\u001b[0m\u001b[0;34m(\u001b[0m\u001b[0mnew_A_split\u001b[0m\u001b[0;34m[\u001b[0m\u001b[0;36m1\u001b[0m\u001b[0;34m,\u001b[0m \u001b[0;36m1\u001b[0m\u001b[0;34m]\u001b[0m\u001b[0;34m,\u001b[0m \u001b[0mnew_B_split\u001b[0m\u001b[0;34m[\u001b[0m\u001b[0;36m1\u001b[0m\u001b[0;34m,\u001b[0m \u001b[0;36m0\u001b[0m\u001b[0;34m]\u001b[0m\u001b[0;34m)\u001b[0m\u001b[0;34m\u001b[0m\u001b[0;34m\u001b[0m\u001b[0m\n\u001b[0;32m---> 98\u001b[0;31m             \u001b[0mC_br\u001b[0m \u001b[0;34m=\u001b[0m \u001b[0mrMult\u001b[0m\u001b[0;34m(\u001b[0m\u001b[0mnew_A_split\u001b[0m\u001b[0;34m[\u001b[0m\u001b[0;36m1\u001b[0m\u001b[0;34m,\u001b[0m \u001b[0;36m0\u001b[0m\u001b[0;34m]\u001b[0m\u001b[0;34m,\u001b[0m \u001b[0mnew_B_split\u001b[0m\u001b[0;34m[\u001b[0m\u001b[0;36m0\u001b[0m\u001b[0;34m,\u001b[0m \u001b[0;36m1\u001b[0m\u001b[0;34m]\u001b[0m\u001b[0;34m)\u001b[0m \u001b[0;34m+\u001b[0m \u001b[0mrMult\u001b[0m\u001b[0;34m(\u001b[0m\u001b[0mnew_A_split\u001b[0m\u001b[0;34m[\u001b[0m\u001b[0;36m1\u001b[0m\u001b[0;34m,\u001b[0m \u001b[0;36m1\u001b[0m\u001b[0;34m]\u001b[0m\u001b[0;34m,\u001b[0m \u001b[0mnew_B_split\u001b[0m\u001b[0;34m[\u001b[0m\u001b[0;36m1\u001b[0m\u001b[0;34m,\u001b[0m \u001b[0;36m1\u001b[0m\u001b[0;34m]\u001b[0m\u001b[0;34m)\u001b[0m\u001b[0;34m\u001b[0m\u001b[0;34m\u001b[0m\u001b[0m\n\u001b[0m\u001b[1;32m     99\u001b[0m \u001b[0;34m\u001b[0m\u001b[0m\n\u001b[1;32m    100\u001b[0m             \u001b[0mC\u001b[0m \u001b[0;34m=\u001b[0m \u001b[0mbuild_matrix\u001b[0m\u001b[0;34m(\u001b[0m\u001b[0;34m[\u001b[0m\u001b[0mC_tl\u001b[0m\u001b[0;34m,\u001b[0m \u001b[0mC_tr\u001b[0m\u001b[0;34m,\u001b[0m \u001b[0mC_bl\u001b[0m\u001b[0;34m,\u001b[0m \u001b[0mC_br\u001b[0m\u001b[0;34m]\u001b[0m\u001b[0;34m)\u001b[0m\u001b[0;34m\u001b[0m\u001b[0;34m\u001b[0m\u001b[0m\n",
      "\u001b[0;32m<ipython-input-264-10a20d27c032>\u001b[0m in \u001b[0;36mrMult\u001b[0;34m(A_idx, B_idx)\u001b[0m\n\u001b[1;32m     93\u001b[0m             \u001b[0mnew_B_split\u001b[0m \u001b[0;34m=\u001b[0m \u001b[0msplit_matrix\u001b[0m\u001b[0;34m(\u001b[0m\u001b[0mB_idx\u001b[0m\u001b[0;34m)\u001b[0m\u001b[0;34m\u001b[0m\u001b[0;34m\u001b[0m\u001b[0m\n\u001b[1;32m     94\u001b[0m \u001b[0;34m\u001b[0m\u001b[0m\n\u001b[0;32m---> 95\u001b[0;31m             \u001b[0mC_tl\u001b[0m \u001b[0;34m=\u001b[0m \u001b[0mrMult\u001b[0m\u001b[0;34m(\u001b[0m\u001b[0mnew_A_split\u001b[0m\u001b[0;34m[\u001b[0m\u001b[0;36m0\u001b[0m\u001b[0;34m,\u001b[0m \u001b[0;36m0\u001b[0m\u001b[0;34m]\u001b[0m\u001b[0;34m,\u001b[0m \u001b[0mnew_B_split\u001b[0m\u001b[0;34m[\u001b[0m\u001b[0;36m0\u001b[0m\u001b[0;34m,\u001b[0m \u001b[0;36m0\u001b[0m\u001b[0;34m]\u001b[0m\u001b[0;34m)\u001b[0m \u001b[0;34m+\u001b[0m \u001b[0mrMult\u001b[0m\u001b[0;34m(\u001b[0m\u001b[0mnew_A_split\u001b[0m\u001b[0;34m[\u001b[0m\u001b[0;36m0\u001b[0m\u001b[0;34m,\u001b[0m \u001b[0;36m1\u001b[0m\u001b[0;34m]\u001b[0m\u001b[0;34m,\u001b[0m \u001b[0mnew_B_split\u001b[0m\u001b[0;34m[\u001b[0m\u001b[0;36m1\u001b[0m\u001b[0;34m,\u001b[0m \u001b[0;36m0\u001b[0m\u001b[0;34m]\u001b[0m\u001b[0;34m)\u001b[0m\u001b[0;34m\u001b[0m\u001b[0;34m\u001b[0m\u001b[0m\n\u001b[0m\u001b[1;32m     96\u001b[0m             \u001b[0mC_tr\u001b[0m \u001b[0;34m=\u001b[0m \u001b[0mrMult\u001b[0m\u001b[0;34m(\u001b[0m\u001b[0mnew_A_split\u001b[0m\u001b[0;34m[\u001b[0m\u001b[0;36m0\u001b[0m\u001b[0;34m,\u001b[0m \u001b[0;36m0\u001b[0m\u001b[0;34m]\u001b[0m\u001b[0;34m,\u001b[0m \u001b[0mnew_B_split\u001b[0m\u001b[0;34m[\u001b[0m\u001b[0;36m0\u001b[0m\u001b[0;34m,\u001b[0m \u001b[0;36m1\u001b[0m\u001b[0;34m]\u001b[0m\u001b[0;34m)\u001b[0m \u001b[0;34m+\u001b[0m \u001b[0mrMult\u001b[0m\u001b[0;34m(\u001b[0m\u001b[0mnew_A_split\u001b[0m\u001b[0;34m[\u001b[0m\u001b[0;36m0\u001b[0m\u001b[0;34m,\u001b[0m \u001b[0;36m1\u001b[0m\u001b[0;34m]\u001b[0m\u001b[0;34m,\u001b[0m \u001b[0mnew_B_split\u001b[0m\u001b[0;34m[\u001b[0m\u001b[0;36m1\u001b[0m\u001b[0;34m,\u001b[0m \u001b[0;36m1\u001b[0m\u001b[0;34m]\u001b[0m\u001b[0;34m)\u001b[0m\u001b[0;34m\u001b[0m\u001b[0;34m\u001b[0m\u001b[0m\n\u001b[1;32m     97\u001b[0m             \u001b[0mC_bl\u001b[0m \u001b[0;34m=\u001b[0m \u001b[0mrMult\u001b[0m\u001b[0;34m(\u001b[0m\u001b[0mnew_A_split\u001b[0m\u001b[0;34m[\u001b[0m\u001b[0;36m1\u001b[0m\u001b[0;34m,\u001b[0m \u001b[0;36m0\u001b[0m\u001b[0;34m]\u001b[0m\u001b[0;34m,\u001b[0m \u001b[0mnew_B_split\u001b[0m\u001b[0;34m[\u001b[0m\u001b[0;36m0\u001b[0m\u001b[0;34m,\u001b[0m \u001b[0;36m0\u001b[0m\u001b[0;34m]\u001b[0m\u001b[0;34m)\u001b[0m \u001b[0;34m+\u001b[0m \u001b[0mrMult\u001b[0m\u001b[0;34m(\u001b[0m\u001b[0mnew_A_split\u001b[0m\u001b[0;34m[\u001b[0m\u001b[0;36m1\u001b[0m\u001b[0;34m,\u001b[0m \u001b[0;36m1\u001b[0m\u001b[0;34m]\u001b[0m\u001b[0;34m,\u001b[0m \u001b[0mnew_B_split\u001b[0m\u001b[0;34m[\u001b[0m\u001b[0;36m1\u001b[0m\u001b[0;34m,\u001b[0m \u001b[0;36m0\u001b[0m\u001b[0;34m]\u001b[0m\u001b[0;34m)\u001b[0m\u001b[0;34m\u001b[0m\u001b[0;34m\u001b[0m\u001b[0m\n",
      "\u001b[0;32m<ipython-input-264-10a20d27c032>\u001b[0m in \u001b[0;36mrMult\u001b[0;34m(A_idx, B_idx)\u001b[0m\n\u001b[1;32m     93\u001b[0m             \u001b[0mnew_B_split\u001b[0m \u001b[0;34m=\u001b[0m \u001b[0msplit_matrix\u001b[0m\u001b[0;34m(\u001b[0m\u001b[0mB_idx\u001b[0m\u001b[0;34m)\u001b[0m\u001b[0;34m\u001b[0m\u001b[0;34m\u001b[0m\u001b[0m\n\u001b[1;32m     94\u001b[0m \u001b[0;34m\u001b[0m\u001b[0m\n\u001b[0;32m---> 95\u001b[0;31m             \u001b[0mC_tl\u001b[0m \u001b[0;34m=\u001b[0m \u001b[0mrMult\u001b[0m\u001b[0;34m(\u001b[0m\u001b[0mnew_A_split\u001b[0m\u001b[0;34m[\u001b[0m\u001b[0;36m0\u001b[0m\u001b[0;34m,\u001b[0m \u001b[0;36m0\u001b[0m\u001b[0;34m]\u001b[0m\u001b[0;34m,\u001b[0m \u001b[0mnew_B_split\u001b[0m\u001b[0;34m[\u001b[0m\u001b[0;36m0\u001b[0m\u001b[0;34m,\u001b[0m \u001b[0;36m0\u001b[0m\u001b[0;34m]\u001b[0m\u001b[0;34m)\u001b[0m \u001b[0;34m+\u001b[0m \u001b[0mrMult\u001b[0m\u001b[0;34m(\u001b[0m\u001b[0mnew_A_split\u001b[0m\u001b[0;34m[\u001b[0m\u001b[0;36m0\u001b[0m\u001b[0;34m,\u001b[0m \u001b[0;36m1\u001b[0m\u001b[0;34m]\u001b[0m\u001b[0;34m,\u001b[0m \u001b[0mnew_B_split\u001b[0m\u001b[0;34m[\u001b[0m\u001b[0;36m1\u001b[0m\u001b[0;34m,\u001b[0m \u001b[0;36m0\u001b[0m\u001b[0;34m]\u001b[0m\u001b[0;34m)\u001b[0m\u001b[0;34m\u001b[0m\u001b[0;34m\u001b[0m\u001b[0m\n\u001b[0m\u001b[1;32m     96\u001b[0m             \u001b[0mC_tr\u001b[0m \u001b[0;34m=\u001b[0m \u001b[0mrMult\u001b[0m\u001b[0;34m(\u001b[0m\u001b[0mnew_A_split\u001b[0m\u001b[0;34m[\u001b[0m\u001b[0;36m0\u001b[0m\u001b[0;34m,\u001b[0m \u001b[0;36m0\u001b[0m\u001b[0;34m]\u001b[0m\u001b[0;34m,\u001b[0m \u001b[0mnew_B_split\u001b[0m\u001b[0;34m[\u001b[0m\u001b[0;36m0\u001b[0m\u001b[0;34m,\u001b[0m \u001b[0;36m1\u001b[0m\u001b[0;34m]\u001b[0m\u001b[0;34m)\u001b[0m \u001b[0;34m+\u001b[0m \u001b[0mrMult\u001b[0m\u001b[0;34m(\u001b[0m\u001b[0mnew_A_split\u001b[0m\u001b[0;34m[\u001b[0m\u001b[0;36m0\u001b[0m\u001b[0;34m,\u001b[0m \u001b[0;36m1\u001b[0m\u001b[0;34m]\u001b[0m\u001b[0;34m,\u001b[0m \u001b[0mnew_B_split\u001b[0m\u001b[0;34m[\u001b[0m\u001b[0;36m1\u001b[0m\u001b[0;34m,\u001b[0m \u001b[0;36m1\u001b[0m\u001b[0;34m]\u001b[0m\u001b[0;34m)\u001b[0m\u001b[0;34m\u001b[0m\u001b[0;34m\u001b[0m\u001b[0m\n\u001b[1;32m     97\u001b[0m             \u001b[0mC_bl\u001b[0m \u001b[0;34m=\u001b[0m \u001b[0mrMult\u001b[0m\u001b[0;34m(\u001b[0m\u001b[0mnew_A_split\u001b[0m\u001b[0;34m[\u001b[0m\u001b[0;36m1\u001b[0m\u001b[0;34m,\u001b[0m \u001b[0;36m0\u001b[0m\u001b[0;34m]\u001b[0m\u001b[0;34m,\u001b[0m \u001b[0mnew_B_split\u001b[0m\u001b[0;34m[\u001b[0m\u001b[0;36m0\u001b[0m\u001b[0;34m,\u001b[0m \u001b[0;36m0\u001b[0m\u001b[0;34m]\u001b[0m\u001b[0;34m)\u001b[0m \u001b[0;34m+\u001b[0m \u001b[0mrMult\u001b[0m\u001b[0;34m(\u001b[0m\u001b[0mnew_A_split\u001b[0m\u001b[0;34m[\u001b[0m\u001b[0;36m1\u001b[0m\u001b[0;34m,\u001b[0m \u001b[0;36m1\u001b[0m\u001b[0;34m]\u001b[0m\u001b[0;34m,\u001b[0m \u001b[0mnew_B_split\u001b[0m\u001b[0;34m[\u001b[0m\u001b[0;36m1\u001b[0m\u001b[0;34m,\u001b[0m \u001b[0;36m0\u001b[0m\u001b[0;34m]\u001b[0m\u001b[0;34m)\u001b[0m\u001b[0;34m\u001b[0m\u001b[0;34m\u001b[0m\u001b[0m\n",
      "\u001b[0;32m<ipython-input-264-10a20d27c032>\u001b[0m in \u001b[0;36mrMult\u001b[0;34m(A_idx, B_idx)\u001b[0m\n\u001b[1;32m     95\u001b[0m             \u001b[0mC_tl\u001b[0m \u001b[0;34m=\u001b[0m \u001b[0mrMult\u001b[0m\u001b[0;34m(\u001b[0m\u001b[0mnew_A_split\u001b[0m\u001b[0;34m[\u001b[0m\u001b[0;36m0\u001b[0m\u001b[0;34m,\u001b[0m \u001b[0;36m0\u001b[0m\u001b[0;34m]\u001b[0m\u001b[0;34m,\u001b[0m \u001b[0mnew_B_split\u001b[0m\u001b[0;34m[\u001b[0m\u001b[0;36m0\u001b[0m\u001b[0;34m,\u001b[0m \u001b[0;36m0\u001b[0m\u001b[0;34m]\u001b[0m\u001b[0;34m)\u001b[0m \u001b[0;34m+\u001b[0m \u001b[0mrMult\u001b[0m\u001b[0;34m(\u001b[0m\u001b[0mnew_A_split\u001b[0m\u001b[0;34m[\u001b[0m\u001b[0;36m0\u001b[0m\u001b[0;34m,\u001b[0m \u001b[0;36m1\u001b[0m\u001b[0;34m]\u001b[0m\u001b[0;34m,\u001b[0m \u001b[0mnew_B_split\u001b[0m\u001b[0;34m[\u001b[0m\u001b[0;36m1\u001b[0m\u001b[0;34m,\u001b[0m \u001b[0;36m0\u001b[0m\u001b[0;34m]\u001b[0m\u001b[0;34m)\u001b[0m\u001b[0;34m\u001b[0m\u001b[0;34m\u001b[0m\u001b[0m\n\u001b[1;32m     96\u001b[0m             \u001b[0mC_tr\u001b[0m \u001b[0;34m=\u001b[0m \u001b[0mrMult\u001b[0m\u001b[0;34m(\u001b[0m\u001b[0mnew_A_split\u001b[0m\u001b[0;34m[\u001b[0m\u001b[0;36m0\u001b[0m\u001b[0;34m,\u001b[0m \u001b[0;36m0\u001b[0m\u001b[0;34m]\u001b[0m\u001b[0;34m,\u001b[0m \u001b[0mnew_B_split\u001b[0m\u001b[0;34m[\u001b[0m\u001b[0;36m0\u001b[0m\u001b[0;34m,\u001b[0m \u001b[0;36m1\u001b[0m\u001b[0;34m]\u001b[0m\u001b[0;34m)\u001b[0m \u001b[0;34m+\u001b[0m \u001b[0mrMult\u001b[0m\u001b[0;34m(\u001b[0m\u001b[0mnew_A_split\u001b[0m\u001b[0;34m[\u001b[0m\u001b[0;36m0\u001b[0m\u001b[0;34m,\u001b[0m \u001b[0;36m1\u001b[0m\u001b[0;34m]\u001b[0m\u001b[0;34m,\u001b[0m \u001b[0mnew_B_split\u001b[0m\u001b[0;34m[\u001b[0m\u001b[0;36m1\u001b[0m\u001b[0;34m,\u001b[0m \u001b[0;36m1\u001b[0m\u001b[0;34m]\u001b[0m\u001b[0;34m)\u001b[0m\u001b[0;34m\u001b[0m\u001b[0;34m\u001b[0m\u001b[0m\n\u001b[0;32m---> 97\u001b[0;31m             \u001b[0mC_bl\u001b[0m \u001b[0;34m=\u001b[0m \u001b[0mrMult\u001b[0m\u001b[0;34m(\u001b[0m\u001b[0mnew_A_split\u001b[0m\u001b[0;34m[\u001b[0m\u001b[0;36m1\u001b[0m\u001b[0;34m,\u001b[0m \u001b[0;36m0\u001b[0m\u001b[0;34m]\u001b[0m\u001b[0;34m,\u001b[0m \u001b[0mnew_B_split\u001b[0m\u001b[0;34m[\u001b[0m\u001b[0;36m0\u001b[0m\u001b[0;34m,\u001b[0m \u001b[0;36m0\u001b[0m\u001b[0;34m]\u001b[0m\u001b[0;34m)\u001b[0m \u001b[0;34m+\u001b[0m \u001b[0mrMult\u001b[0m\u001b[0;34m(\u001b[0m\u001b[0mnew_A_split\u001b[0m\u001b[0;34m[\u001b[0m\u001b[0;36m1\u001b[0m\u001b[0;34m,\u001b[0m \u001b[0;36m1\u001b[0m\u001b[0;34m]\u001b[0m\u001b[0;34m,\u001b[0m \u001b[0mnew_B_split\u001b[0m\u001b[0;34m[\u001b[0m\u001b[0;36m1\u001b[0m\u001b[0;34m,\u001b[0m \u001b[0;36m0\u001b[0m\u001b[0;34m]\u001b[0m\u001b[0;34m)\u001b[0m\u001b[0;34m\u001b[0m\u001b[0;34m\u001b[0m\u001b[0m\n\u001b[0m\u001b[1;32m     98\u001b[0m             \u001b[0mC_br\u001b[0m \u001b[0;34m=\u001b[0m \u001b[0mrMult\u001b[0m\u001b[0;34m(\u001b[0m\u001b[0mnew_A_split\u001b[0m\u001b[0;34m[\u001b[0m\u001b[0;36m1\u001b[0m\u001b[0;34m,\u001b[0m \u001b[0;36m0\u001b[0m\u001b[0;34m]\u001b[0m\u001b[0;34m,\u001b[0m \u001b[0mnew_B_split\u001b[0m\u001b[0;34m[\u001b[0m\u001b[0;36m0\u001b[0m\u001b[0;34m,\u001b[0m \u001b[0;36m1\u001b[0m\u001b[0;34m]\u001b[0m\u001b[0;34m)\u001b[0m \u001b[0;34m+\u001b[0m \u001b[0mrMult\u001b[0m\u001b[0;34m(\u001b[0m\u001b[0mnew_A_split\u001b[0m\u001b[0;34m[\u001b[0m\u001b[0;36m1\u001b[0m\u001b[0;34m,\u001b[0m \u001b[0;36m1\u001b[0m\u001b[0;34m]\u001b[0m\u001b[0;34m,\u001b[0m \u001b[0mnew_B_split\u001b[0m\u001b[0;34m[\u001b[0m\u001b[0;36m1\u001b[0m\u001b[0;34m,\u001b[0m \u001b[0;36m1\u001b[0m\u001b[0;34m]\u001b[0m\u001b[0;34m)\u001b[0m\u001b[0;34m\u001b[0m\u001b[0;34m\u001b[0m\u001b[0m\n\u001b[1;32m     99\u001b[0m \u001b[0;34m\u001b[0m\u001b[0m\n",
      "\u001b[0;32m<ipython-input-264-10a20d27c032>\u001b[0m in \u001b[0;36mrMult\u001b[0;34m(A_idx, B_idx)\u001b[0m\n\u001b[1;32m     88\u001b[0m     \u001b[0;32mdef\u001b[0m \u001b[0mrMult\u001b[0m\u001b[0;34m(\u001b[0m\u001b[0mA_idx\u001b[0m\u001b[0;34m,\u001b[0m \u001b[0mB_idx\u001b[0m\u001b[0;34m)\u001b[0m\u001b[0;34m:\u001b[0m\u001b[0;34m\u001b[0m\u001b[0;34m\u001b[0m\u001b[0m\n\u001b[1;32m     89\u001b[0m         \u001b[0;32mif\u001b[0m \u001b[0mA_idx\u001b[0m\u001b[0;34m.\u001b[0m\u001b[0misscalar\u001b[0m\u001b[0;34m(\u001b[0m\u001b[0;34m)\u001b[0m\u001b[0;34m:\u001b[0m\u001b[0;34m\u001b[0m\u001b[0;34m\u001b[0m\u001b[0m\n\u001b[0;32m---> 90\u001b[0;31m             \u001b[0mC\u001b[0m \u001b[0;34m=\u001b[0m \u001b[0mnp\u001b[0m\u001b[0;34m.\u001b[0m\u001b[0marray\u001b[0m\u001b[0;34m(\u001b[0m\u001b[0;34m[\u001b[0m\u001b[0;34m[\u001b[0m\u001b[0mM_1\u001b[0m\u001b[0;34m[\u001b[0m\u001b[0mA_idx\u001b[0m\u001b[0;34m.\u001b[0m\u001b[0mget_start\u001b[0m\u001b[0;34m(\u001b[0m\u001b[0;34m)\u001b[0m\u001b[0;34m]\u001b[0m \u001b[0;34m*\u001b[0m \u001b[0mM_2\u001b[0m\u001b[0;34m[\u001b[0m\u001b[0mB_idx\u001b[0m\u001b[0;34m.\u001b[0m\u001b[0mget_start\u001b[0m\u001b[0;34m(\u001b[0m\u001b[0;34m)\u001b[0m\u001b[0;34m]\u001b[0m\u001b[0;34m]\u001b[0m\u001b[0;34m]\u001b[0m\u001b[0;34m)\u001b[0m\u001b[0;34m\u001b[0m\u001b[0;34m\u001b[0m\u001b[0m\n\u001b[0m\u001b[1;32m     91\u001b[0m         \u001b[0;32melse\u001b[0m\u001b[0;34m:\u001b[0m\u001b[0;34m\u001b[0m\u001b[0;34m\u001b[0m\u001b[0m\n\u001b[1;32m     92\u001b[0m             \u001b[0mnew_A_split\u001b[0m \u001b[0;34m=\u001b[0m \u001b[0msplit_matrix\u001b[0m\u001b[0;34m(\u001b[0m\u001b[0mA_idx\u001b[0m\u001b[0;34m)\u001b[0m\u001b[0;34m\u001b[0m\u001b[0;34m\u001b[0m\u001b[0m\n",
      "\u001b[0;31mKeyboardInterrupt\u001b[0m: "
     ]
    }
   ],
   "source": [
    "from time import time\n",
    "dims = (2**p for p in range(1, 11))\n",
    "\n",
    "stats_strassen = {\"N\":[], \"t\":[]}\n",
    "stats_naive = {\"N\":[], \"t\":[]}\n",
    "for n in dims:\n",
    "    A = np.random.rand(n, n)\n",
    "    B = np.random.rand(n, n)\n",
    "    t = 0\n",
    "    for _ in range(10):\n",
    "        start = time()*1000\n",
    "        strassen_res = strassen(A, B)\n",
    "        t += (time()*1000 - start)/5\n",
    "    stats_strassen['N'].append(n)\n",
    "    stats_strassen['t'].append(t)\n",
    "    \n",
    "    t = 0\n",
    "    for _ in range(10):\n",
    "        start = time()*1000\n",
    "        naive_res = naive_mult(A, B)\n",
    "        t += (time()*1000 - start)/5\n",
    "    stats_naive['N'].append(n)\n",
    "    stats_naive['t'].append(t)\n",
    "    "
   ]
  },
  {
   "cell_type": "code",
   "execution_count": 284,
   "metadata": {
    "ExecuteTime": {
     "end_time": "2020-10-29T17:11:31.289475Z",
     "start_time": "2020-10-29T17:11:31.273452Z"
    }
   },
   "outputs": [],
   "source": [
    "import pandas as pd\n",
    "\n",
    "stats_naive[\"N\"] = [2**p for p in range(10)]\n",
    "stats_naive[\"t\"] = [0.02, 0.04, 0.21, 1.53, 6.66, 56.09, 510.94, 4203.01, 24901.37, 203164.7]\n",
    "\n",
    "stats_strassen[\"N\"] = [2**p for p in range(10)]\n",
    "stats_strassen[\"t\"] = [0.31, 1.92, 2.21, 2.56, 8.99, 55.78, 423.18, 3999.32, 22416.71, 172872.95]\n",
    "\n",
    "df_strassen = pd.DataFrame(stats_strassen)\n",
    "df_naive = pd.DataFrame(stats_naive)"
   ]
  },
  {
   "cell_type": "code",
   "execution_count": 285,
   "metadata": {
    "ExecuteTime": {
     "end_time": "2020-10-29T17:11:32.513070Z",
     "start_time": "2020-10-29T17:11:32.478282Z"
    }
   },
   "outputs": [
    {
     "data": {
      "text/html": [
       "<div>\n",
       "<style scoped>\n",
       "    .dataframe tbody tr th:only-of-type {\n",
       "        vertical-align: middle;\n",
       "    }\n",
       "\n",
       "    .dataframe tbody tr th {\n",
       "        vertical-align: top;\n",
       "    }\n",
       "\n",
       "    .dataframe thead th {\n",
       "        text-align: right;\n",
       "    }\n",
       "</style>\n",
       "<table border=\"1\" class=\"dataframe\">\n",
       "  <thead>\n",
       "    <tr style=\"text-align: right;\">\n",
       "      <th></th>\n",
       "      <th>N</th>\n",
       "      <th>t</th>\n",
       "    </tr>\n",
       "  </thead>\n",
       "  <tbody>\n",
       "    <tr>\n",
       "      <th>0</th>\n",
       "      <td>1</td>\n",
       "      <td>0.31</td>\n",
       "    </tr>\n",
       "    <tr>\n",
       "      <th>1</th>\n",
       "      <td>2</td>\n",
       "      <td>1.92</td>\n",
       "    </tr>\n",
       "    <tr>\n",
       "      <th>2</th>\n",
       "      <td>4</td>\n",
       "      <td>2.21</td>\n",
       "    </tr>\n",
       "    <tr>\n",
       "      <th>3</th>\n",
       "      <td>8</td>\n",
       "      <td>2.56</td>\n",
       "    </tr>\n",
       "    <tr>\n",
       "      <th>4</th>\n",
       "      <td>16</td>\n",
       "      <td>8.99</td>\n",
       "    </tr>\n",
       "    <tr>\n",
       "      <th>5</th>\n",
       "      <td>32</td>\n",
       "      <td>55.78</td>\n",
       "    </tr>\n",
       "    <tr>\n",
       "      <th>6</th>\n",
       "      <td>64</td>\n",
       "      <td>423.18</td>\n",
       "    </tr>\n",
       "    <tr>\n",
       "      <th>7</th>\n",
       "      <td>128</td>\n",
       "      <td>3999.32</td>\n",
       "    </tr>\n",
       "    <tr>\n",
       "      <th>8</th>\n",
       "      <td>256</td>\n",
       "      <td>22416.71</td>\n",
       "    </tr>\n",
       "    <tr>\n",
       "      <th>9</th>\n",
       "      <td>512</td>\n",
       "      <td>172872.95</td>\n",
       "    </tr>\n",
       "  </tbody>\n",
       "</table>\n",
       "</div>"
      ],
      "text/plain": [
       "     N          t\n",
       "0    1       0.31\n",
       "1    2       1.92\n",
       "2    4       2.21\n",
       "3    8       2.56\n",
       "4   16       8.99\n",
       "5   32      55.78\n",
       "6   64     423.18\n",
       "7  128    3999.32\n",
       "8  256   22416.71\n",
       "9  512  172872.95"
      ]
     },
     "execution_count": 285,
     "metadata": {},
     "output_type": "execute_result"
    }
   ],
   "source": [
    "df_strassen"
   ]
  },
  {
   "cell_type": "code",
   "execution_count": 286,
   "metadata": {
    "ExecuteTime": {
     "end_time": "2020-10-29T17:11:33.091546Z",
     "start_time": "2020-10-29T17:11:33.056407Z"
    }
   },
   "outputs": [
    {
     "data": {
      "text/html": [
       "<div>\n",
       "<style scoped>\n",
       "    .dataframe tbody tr th:only-of-type {\n",
       "        vertical-align: middle;\n",
       "    }\n",
       "\n",
       "    .dataframe tbody tr th {\n",
       "        vertical-align: top;\n",
       "    }\n",
       "\n",
       "    .dataframe thead th {\n",
       "        text-align: right;\n",
       "    }\n",
       "</style>\n",
       "<table border=\"1\" class=\"dataframe\">\n",
       "  <thead>\n",
       "    <tr style=\"text-align: right;\">\n",
       "      <th></th>\n",
       "      <th>N</th>\n",
       "      <th>t</th>\n",
       "    </tr>\n",
       "  </thead>\n",
       "  <tbody>\n",
       "    <tr>\n",
       "      <th>0</th>\n",
       "      <td>1</td>\n",
       "      <td>0.02</td>\n",
       "    </tr>\n",
       "    <tr>\n",
       "      <th>1</th>\n",
       "      <td>2</td>\n",
       "      <td>0.04</td>\n",
       "    </tr>\n",
       "    <tr>\n",
       "      <th>2</th>\n",
       "      <td>4</td>\n",
       "      <td>0.21</td>\n",
       "    </tr>\n",
       "    <tr>\n",
       "      <th>3</th>\n",
       "      <td>8</td>\n",
       "      <td>1.53</td>\n",
       "    </tr>\n",
       "    <tr>\n",
       "      <th>4</th>\n",
       "      <td>16</td>\n",
       "      <td>6.66</td>\n",
       "    </tr>\n",
       "    <tr>\n",
       "      <th>5</th>\n",
       "      <td>32</td>\n",
       "      <td>56.09</td>\n",
       "    </tr>\n",
       "    <tr>\n",
       "      <th>6</th>\n",
       "      <td>64</td>\n",
       "      <td>510.94</td>\n",
       "    </tr>\n",
       "    <tr>\n",
       "      <th>7</th>\n",
       "      <td>128</td>\n",
       "      <td>4203.01</td>\n",
       "    </tr>\n",
       "    <tr>\n",
       "      <th>8</th>\n",
       "      <td>256</td>\n",
       "      <td>24901.37</td>\n",
       "    </tr>\n",
       "    <tr>\n",
       "      <th>9</th>\n",
       "      <td>512</td>\n",
       "      <td>203164.70</td>\n",
       "    </tr>\n",
       "  </tbody>\n",
       "</table>\n",
       "</div>"
      ],
      "text/plain": [
       "     N          t\n",
       "0    1       0.02\n",
       "1    2       0.04\n",
       "2    4       0.21\n",
       "3    8       1.53\n",
       "4   16       6.66\n",
       "5   32      56.09\n",
       "6   64     510.94\n",
       "7  128    4203.01\n",
       "8  256   24901.37\n",
       "9  512  203164.70"
      ]
     },
     "execution_count": 286,
     "metadata": {},
     "output_type": "execute_result"
    }
   ],
   "source": [
    "df_naive"
   ]
  },
  {
   "cell_type": "code",
   "execution_count": 287,
   "metadata": {
    "ExecuteTime": {
     "end_time": "2020-10-29T17:11:36.718510Z",
     "start_time": "2020-10-29T17:11:36.491446Z"
    }
   },
   "outputs": [
    {
     "data": {
      "image/png": "[encoded data removed]",
      "text/plain": [
       "<Figure size 432x288 with 1 Axes>"
      ]
     },
     "metadata": {
      "needs_background": "light"
     },
     "output_type": "display_data"
    }
   ],
   "source": [
    "from matplotlib import pyplot as plt\n",
    "\n",
    "_ = plt.plot(df_naive.N, df_naive.t, color='r')\n",
    "_ = plt.plot(df_naive.N, df_strassen.t, color='b')"
   ]
  },
  {
   "cell_type": "code",
   "execution_count": 289,
   "metadata": {
    "ExecuteTime": {
     "end_time": "2020-10-29T17:12:46.003445Z",
     "start_time": "2020-10-29T17:12:45.808509Z"
    }
   },
   "outputs": [
    {
     "data": {
      "image/png": "[encoded data removed]",
      "text/plain": [
       "<Figure size 432x288 with 1 Axes>"
      ]
     },
     "metadata": {
      "needs_background": "light"
     },
     "output_type": "display_data"
    }
   ],
   "source": [
    "from scipy.optimize import curve_fit\n",
    "\n",
    "def cubic(x, a):\n",
    "    return a*x**3\n",
    "\n",
    "def nlog7(x, a):\n",
    "    return a * x**np.log(7)\n",
    "\n",
    "\n",
    "_ = plt.scatter(df_naive.N, df_naive.t, color='r')\n",
    "_ = plt.scatter(df_naive.N, df_strassen.t, color='b')\n",
    "\n",
    "\n",
    "popt, pcov = curve_fit(cubic, df_naive.N, df_naive.t)\n",
    "\n",
    "plt.plot(np.linspace(0, 512, 512), cubic(np.linspace(0, 512, 512), popt[0]), color='r')\n",
    "# _ = plt.plot(df_naive.N, df_naive.t)\n",
    "\n",
    "\n",
    "\n",
    "popt, pcov = curve_fit(cubic, df_naive.N, df_strassen.t)\n",
    "\n",
    "_ = plt.plot(np.linspace(0, 512, 512), cubic(np.linspace(0, 512, 512), popt[0]), color='b')\n",
    "# _ = plt.plot(df_naive.N, df_strassen.t)"
   ]
  },
  {
   "cell_type": "code",
   "execution_count": 282,
   "metadata": {
    "ExecuteTime": {
     "end_time": "2020-10-29T17:06:56.224076Z",
     "start_time": "2020-10-29T17:06:56.013442Z"
    }
   },
   "outputs": [
    {
     "data": {
      "image/png": "[encoded data removed]",
      "text/plain": [
       "<Figure size 432x288 with 1 Axes>"
      ]
     },
     "metadata": {
      "needs_background": "light"
     },
     "output_type": "display_data"
    }
   ],
   "source": [
    "popt, pcov = curve_fit(cubic, df_naive.N, df_strassen.t)\n",
    "\n",
    "plt.plot(np.linspace(0, 128, 128), cubic(np.linspace(0, 128, 128), popt[0]))\n",
    "_ = plt.scatter(df_naive.N, df_strassen.t)"
   ]
  },
  {
   "cell_type": "code",
   "execution_count": 283,
   "metadata": {
    "ExecuteTime": {
     "end_time": "2020-10-29T17:06:57.269056Z",
     "start_time": "2020-10-29T17:06:57.027142Z"
    }
   },
   "outputs": [
    {
     "data": {
      "image/png": "[encoded data removed]",
      "text/plain": [
       "<Figure size 432x288 with 1 Axes>"
      ]
     },
     "metadata": {
      "needs_background": "light"
     },
     "output_type": "display_data"
    }
   ],
   "source": [
    "plt.plot(np.linspace(0, 10, 512), nlog7(np.linspace(0, 10, 512), 1), color=\"b\")\n",
    "_ = plt.plot(np.linspace(0, 10, 512), cubic(np.linspace(0, 10, 512), 1))"
   ]
  }
 ],
 "metadata": {
  "kernelspec": {
   "display_name": "Python 3",
   "language": "python",
   "name": "python3"
  },
  "language_info": {
   "codemirror_mode": {
    "name": "ipython",
    "version": 3
   },
   "file_extension": ".py",
   "mimetype": "text/x-python",
   "name": "python",
   "nbconvert_exporter": "python",
   "pygments_lexer": "ipython3",
   "version": "3.8.5"
  }
 },
 "nbformat": 4,
 "nbformat_minor": 4
}
