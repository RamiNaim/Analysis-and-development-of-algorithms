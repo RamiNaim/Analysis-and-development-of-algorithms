{
 "cells": [
  {
   "cell_type": "code",
   "execution_count": 4,
   "metadata": {
    "ExecuteTime": {
     "end_time": "2020-10-28T16:11:33.658226Z",
     "start_time": "2020-10-28T16:11:33.643721Z"
    }
   },
   "outputs": [],
   "source": [
    "import numpy as np\n",
    "from copy import copy"
   ]
  },
  {
   "cell_type": "code",
   "execution_count": 519,
   "metadata": {
    "ExecuteTime": {
     "end_time": "2020-10-28T20:03:36.326754Z",
     "start_time": "2020-10-28T20:03:36.283183Z"
    }
   },
   "outputs": [],
   "source": [
    "def naive_mult(a, b):\n",
    "    \n",
    "    n_rows = a.shape[0]\n",
    "    n_cols = b.shape[1]\n",
    "    res = np.zeros((n_rows, n_cols))\n",
    "    \n",
    "    for i in range(n_rows):\n",
    "        for j in range(n_cols):\n",
    "            for k in range( a.shape[1] ):\n",
    "                res[i, j] += a[i, k] * b[k, j]\n",
    "    \n",
    "    return res    \n",
    "\n",
    "class Split:\n",
    "    def init(self, i=0, j=0, step=0):\n",
    "        self.i = i\n",
    "        self.j = j\n",
    "        self.step = step\n",
    "    \n",
    "    def isscalar(self):\n",
    "        return self.step == 1\n",
    "        \n",
    "    def get_start(self):\n",
    "        return self.i, self.j\n",
    "\n",
    "    def to_str(self):\n",
    "        return f\"{self.i, self.j}, {self.step}\"\n",
    "    \n",
    "def split_matrix(split):\n",
    "    step = split.step // 2\n",
    "    \n",
    "    top_left = Split()\n",
    "    top_left.i = split.i\n",
    "    top_left.j = split.j\n",
    "    top_left.step = step\n",
    "\n",
    "    top_right = Split()\n",
    "    top_right.i = split.i\n",
    "    top_right.j = split.j + step\n",
    "    top_right.step = step\n",
    "    \n",
    "    bottom_left = Split()\n",
    "    bottom_left.i = split.i + step\n",
    "    bottom_left.j = split.j\n",
    "    bottom_left.step = step\n",
    "    \n",
    "    bottom_right = Split()\n",
    "    bottom_right.i = split.i + step\n",
    "    bottom_right.j = split.j + step\n",
    "    bottom_right.step = step\n",
    "    \n",
    "    return np.array([[top_left, top_right], [bottom_left, bottom_right]])\n",
    "              \n",
    "\n",
    "def recursive_mult(M_1, M_2, A_idx=None, B_idx=None):\n",
    "    n = min(M_1.shape[0], M_2.shape[0])\n",
    "    \n",
    "    if A_idx is None:\n",
    "        A_idx = Split()\n",
    "        A_idx.init()\n",
    "        A_idx.step = n\n",
    "    \n",
    "    if B_idx is None:\n",
    "        B_idx = Split()\n",
    "        B_idx.init()\n",
    "        B_idx.step = n\n",
    "        \n",
    "    def rMult(A_idx, B_idx):\n",
    "        if A_idx.isscalar():\n",
    "            C = np.array([[M_1[A_idx.get_start()] * M_2[B_idx.get_start()]]])\n",
    "        else:\n",
    "            new_A_split = split_matrix(A_idx)\n",
    "            new_B_split = split_matrix(B_idx)\n",
    "\n",
    "            C_tl = rMult(new_A_split[0, 0], new_B_split[0, 0]) + rMult(new_A_split[0, 1], new_B_split[1, 0])\n",
    "            C_tr = rMult(new_A_split[0, 0], new_B_split[0, 1]) + rMult(new_A_split[0, 1], new_B_split[1, 1])\n",
    "            C_bl = rMult(new_A_split[1, 0], new_B_split[0, 0]) + rMult(new_A_split[1, 1], new_B_split[1, 0])\n",
    "            C_br = rMult(new_A_split[1, 0], new_B_split[0, 1]) + rMult(new_A_split[1, 1], new_B_split[1, 1])\n",
    "\n",
    "            C = build_matrix([C_tl, C_tr, C_bl, C_br])\n",
    "        return C\n",
    "\n",
    "    return rMult(A_idx, B_idx)\n",
    "\n",
    "   \n",
    "def strassen(A, B):\n",
    "    \n",
    "    def build_matrix(submatrices):\n",
    "        C_tl, C_tr, C_bl, C_br = submatrices\n",
    "        n = C_tl.shape[0]\n",
    "        new_n = n*2\n",
    "\n",
    "        new_C = np.zeros( (new_n, new_n) )\n",
    "        for i in range(n):\n",
    "            for j in range(n):\n",
    "                new_C[i, j] = C_tl[i, j]\n",
    "                new_C[i, j + n] = C_tr[i, j]\n",
    "                new_C[i + n, j] = C_bl[i, j]\n",
    "                new_C[i + n, j + n] = C_br[i, j]\n",
    "\n",
    "        return new_C\n",
    "\n",
    "    def add(M, A_split, B_split):\n",
    "        step = A_split.step\n",
    "\n",
    "        res = np.zeros( (step, step) )\n",
    "        for i in range(step):\n",
    "            for j in range(step):\n",
    "                res[i, j] = M[A_split.i + i, A_split.j + j] + M[B_split.i + i, B_split.j + j]\n",
    "\n",
    "        return res\n",
    "\n",
    "    def substract(M, A_split, B_split):\n",
    "        step = A_split.step\n",
    "\n",
    "        res = np.zeros( (step, step) )\n",
    "        for i in range(step):\n",
    "            for j in range(step):\n",
    "                res[i, j] = M[A_split.i + i, A_split.j + j] - M[B_split.i + i, B_split.j + j]\n",
    "\n",
    "        return res\n",
    "    \n",
    "    n = A.shape[0]\n",
    "\n",
    "    A_s = Split()\n",
    "    A_s.init()\n",
    "    A_s.step = n\n",
    "    \n",
    "    B_s = Split()\n",
    "    B_s.init()\n",
    "    B_s.step = n\n",
    "    \n",
    "    A_split = split_matrix(A_s)\n",
    "    B_split = split_matrix(B_s)\n",
    "    \n",
    "    S_1 = substract(copy(B), B_split[0, 1], B_split[1, 1])\n",
    "    \n",
    "    S_2 = add(copy(A), A_split[0, 0], A_split[0, 1])\n",
    "    \n",
    "    S_3 = add(copy(A), A_split[1, 0], A_split[1, 1])\n",
    "    \n",
    "    S_4 = substract(copy(B), B_split[1, 0], B_split[0, 0])\n",
    "    \n",
    "    S_5 = add(copy(A), A_split[0, 0], A_split[1, 1])\n",
    "    \n",
    "    S_6 = add(copy(B), B_split[0, 0], B_split[1, 1])\n",
    "    \n",
    "    S_7 = substract(copy(A), A_split[0, 1], A_split[1, 1])\n",
    "    \n",
    "    S_8 = add(copy(B), B_split[1, 0], B_split[1, 1])\n",
    "    \n",
    "    S_9 = substract(copy(A), A_split[0, 0], A_split[1, 0])\n",
    "    \n",
    "    S_10 = add(copy(B), B_split[0, 0], B_split[0, 1])\n",
    "       \n",
    "    \"\"\"\n",
    "    P_1 = rMult(A_split[0, 0], B_split[0, 1]) - rMult(A_split[0, 0], B_split[1, 1])\n",
    "    \n",
    "    P_2 = rMult(A_split[0, 0], B_split[1, 1]) + rMult(A_split[0, 1], B_split[1, 1])\n",
    "    \n",
    "    P_3 = rMult(A_split[1, 0], B_split[0, 0]) + rMult(A_split[1, 1], B_split[0, 0])\n",
    "    \n",
    "    P_4 = rMult(A_split[1, 1], B_split[1, 0]) - rMult(A_split[1, 1], B_split[0, 0])\n",
    "    \n",
    "    P_5 = rMult(A_split[0, 0], B_split[0, 0]) + rMult(A_split[0, 0], B_split[1, 1])\n",
    "    P_5 += rMult(A_split[1, 1], B_split[0, 0]) + rMult(A_split[1, 1], B_split[1, 1])\n",
    "    \n",
    "    P_6 = rMult(A_split[0, 1], B_split[1, 0]) + rMult(A_split[0, 1], B_split[1, 1])\n",
    "    P_6 += - rMult(A_split[1, 1], B_split[1, 0]) - rMult(A_split[1, 1], B_split[1, 1])\n",
    "    \n",
    "    P_7 = rMult(A_split[0, 0], B_split[0, 0]) + rMult(A_split[0, 0], B_split[0, 1])\n",
    "    P_7 += - rMult(A_split[1, 0], B_split[0, 0]) - rMult(A_split[1, 0], B_split[0, 1])\n",
    "    \"\"\"\n",
    "    \n",
    "    P_1 = recursive_mult(copy(A), copy(S_1), A_split[0, 0], None)\n",
    "    P_2 = recursive_mult(copy(S_2), copy(B), None, B_split[1, 1])\n",
    "    P_3 = recursive_mult(copy(S_3), copy(B), None, B_split[0, 0])\n",
    "    P_4 = recursive_mult(copy(A), copy(S_4), A_split[1, 1], None)\n",
    "    P_5 = recursive_mult(copy(S_5), copy(S_6))\n",
    "    P_6 = recursive_mult(copy(S_7), copy(S_8))\n",
    "    P_7 = recursive_mult(copy(S_9), copy(S_10))\n",
    "    \n",
    "    C_11 = P_5 + P_4 - P_2 + P_6\n",
    "    C_12 = P_1 + P_2\n",
    "    C_21 = P_3 + P_4\n",
    "    C_22 = P_5 + P_1 - P_3 - P_7\n",
    "    \n",
    "    C = build_matrix([C_11, C_12, C_21, C_22])\n",
    "    \n",
    "    return C\n",
    "    \n",
    "    \n",
    "    \n",
    "def is_equal(a, b):\n",
    "    return (abs(strassen_res - naive_res) <= 10e-9).all()"
   ]
  },
  {
   "cell_type": "code",
   "execution_count": 539,
   "metadata": {
    "ExecuteTime": {
     "end_time": "2020-10-28T20:16:34.628654Z",
     "start_time": "2020-10-28T20:16:34.612680Z"
    }
   },
   "outputs": [],
   "source": [
    "n = 32\n",
    "A = np.random.rand(n, n)\n",
    "B = np.random.rand(n, n)"
   ]
  },
  {
   "cell_type": "code",
   "execution_count": 540,
   "metadata": {
    "ExecuteTime": {
     "end_time": "2020-10-28T20:17:50.736369Z",
     "start_time": "2020-10-28T20:16:38.251520Z"
    }
   },
   "outputs": [
    {
     "name": "stdout",
     "output_type": "stream",
     "text": [
      "207 ms ± 8.03 ms per loop (mean ± std. dev. of 7 runs, 50 loops each)\n"
     ]
    }
   ],
   "source": [
    "%timeit -n50 strassen_res = strassen(A, B)"
   ]
  },
  {
   "cell_type": "code",
   "execution_count": 541,
   "metadata": {
    "ExecuteTime": {
     "end_time": "2020-10-28T20:18:00.064768Z",
     "start_time": "2020-10-28T20:17:50.738263Z"
    }
   },
   "outputs": [
    {
     "name": "stdout",
     "output_type": "stream",
     "text": [
      "26.6 ms ± 1.15 ms per loop (mean ± std. dev. of 7 runs, 50 loops each)\n"
     ]
    }
   ],
   "source": [
    "%timeit -n50 naive_res = naive_mult(A, B)"
   ]
  },
  {
   "cell_type": "code",
   "execution_count": 542,
   "metadata": {
    "ExecuteTime": {
     "end_time": "2020-10-28T20:18:00.071778Z",
     "start_time": "2020-10-28T20:18:00.067045Z"
    }
   },
   "outputs": [
    {
     "data": {
      "text/plain": [
       "True"
      ]
     },
     "execution_count": 542,
     "metadata": {},
     "output_type": "execute_result"
    }
   ],
   "source": [
    "is_equal(strassen_res, naive_res)"
   ]
  },
  {
   "cell_type": "code",
   "execution_count": 513,
   "metadata": {
    "ExecuteTime": {
     "end_time": "2020-10-28T20:01:01.493912Z",
     "start_time": "2020-10-28T20:01:01.465459Z"
    }
   },
   "outputs": [
    {
     "data": {
      "text/plain": [
       "array([[ 7.19642441,  6.27014167,  7.54262825, ...,  7.86324081,\n",
       "         8.00589952,  6.62987813],\n",
       "       [ 7.34780014,  7.26551811,  8.64727421, ...,  8.54186025,\n",
       "         8.3370981 ,  7.63101564],\n",
       "       [ 8.56574757,  6.85524574,  9.3563719 , ..., 10.70825769,\n",
       "         9.07624093,  9.01393827],\n",
       "       ...,\n",
       "       [ 6.05373222,  5.92076864,  8.21013581, ...,  8.02610382,\n",
       "         8.09167631,  6.5425994 ],\n",
       "       [ 8.48677804,  6.78618704,  8.90877955, ...,  8.73110749,\n",
       "         9.35552531,  7.4763038 ],\n",
       "       [ 8.94410642,  7.60340689, 10.72899545, ..., 10.29667625,\n",
       "         9.89970721,  8.60268255]])"
      ]
     },
     "execution_count": 513,
     "metadata": {},
     "output_type": "execute_result"
    }
   ],
   "source": [
    "np.dot(A, B)"
   ]
  },
  {
   "cell_type": "code",
   "execution_count": 466,
   "metadata": {
    "ExecuteTime": {
     "end_time": "2020-10-28T19:55:03.240386Z",
     "start_time": "2020-10-28T19:55:03.224944Z"
    }
   },
   "outputs": [
    {
     "data": {
      "text/plain": [
       "array([[0.30254901, 0.15440135],\n",
       "       [0.02415313, 0.43583908]])"
      ]
     },
     "execution_count": 466,
     "metadata": {},
     "output_type": "execute_result"
    }
   ],
   "source": [
    "strassen_res"
   ]
  },
  {
   "cell_type": "code",
   "execution_count": 456,
   "metadata": {
    "ExecuteTime": {
     "end_time": "2020-10-28T19:54:36.793587Z",
     "start_time": "2020-10-28T19:54:36.772669Z"
    }
   },
   "outputs": [
    {
     "data": {
      "text/plain": [
       "array([[2.19384937, 1.97086571, 2.73209922, 2.18208137, 1.65298491,\n",
       "        1.20043977, 2.18852903, 1.11316963],\n",
       "       [2.55968606, 2.70497631, 3.67091188, 2.36424498, 1.77392901,\n",
       "        1.27334191, 2.95036702, 1.70997761],\n",
       "       [2.26232552, 2.21526165, 2.95195076, 1.95662313, 1.62944951,\n",
       "        1.06848511, 2.38248813, 1.60199174],\n",
       "       [2.7701198 , 1.91912645, 3.54831418, 2.45451417, 1.51524542,\n",
       "        1.59882328, 2.59032631, 1.55689174],\n",
       "       [2.21539921, 2.25208861, 2.87042758, 1.81788671, 1.37780386,\n",
       "        1.02636753, 2.31137927, 1.07602928],\n",
       "       [2.07715732, 2.12956696, 2.64493299, 1.99140294, 2.0046203 ,\n",
       "        1.18740461, 2.0299109 , 0.83685712],\n",
       "       [2.47098833, 2.70430212, 3.11104555, 2.47489075, 2.78336997,\n",
       "        1.62185074, 2.38472387, 1.13834093],\n",
       "       [2.12103701, 1.80790953, 2.8944624 , 2.0271973 , 1.81075743,\n",
       "        1.12974145, 2.01683433, 0.92491895]])"
      ]
     },
     "execution_count": 456,
     "metadata": {},
     "output_type": "execute_result"
    }
   ],
   "source": [
    "naive_res"
   ]
  },
  {
   "cell_type": "code",
   "execution_count": 457,
   "metadata": {
    "ExecuteTime": {
     "end_time": "2020-10-28T19:54:41.195529Z",
     "start_time": "2020-10-28T19:54:41.188025Z"
    }
   },
   "outputs": [
    {
     "data": {
      "text/plain": [
       "array([[0.99685352, 0.80368283, 0.28854261, 0.34159672],\n",
       "       [1.968495  , 1.85628709, 0.67799034, 1.14701835],\n",
       "       [0.99444611, 0.92129612, 0.22638741, 0.32183264],\n",
       "       [1.6988771 , 1.56024799, 0.62092772, 0.95621988]])"
      ]
     },
     "execution_count": 457,
     "metadata": {},
     "output_type": "execute_result"
    }
   ],
   "source": [
    "split_test = Split()\n",
    "split_test.init(0, 0, 4)\n",
    "\n",
    "test_m = np.random.rand(4, 4)\n",
    "\n",
    "recursive_mult(test_m, A, None, split_test)"
   ]
  },
  {
   "cell_type": "code",
   "execution_count": 458,
   "metadata": {
    "ExecuteTime": {
     "end_time": "2020-10-28T19:54:41.709554Z",
     "start_time": "2020-10-28T19:54:41.684812Z"
    }
   },
   "outputs": [
    {
     "data": {
      "text/plain": [
       "array([[0.99685352, 0.80368283, 0.28854261, 0.34159672],\n",
       "       [1.968495  , 1.85628709, 0.67799034, 1.14701835],\n",
       "       [0.99444611, 0.92129612, 0.22638741, 0.32183264],\n",
       "       [1.6988771 , 1.56024799, 0.62092772, 0.95621988]])"
      ]
     },
     "execution_count": 458,
     "metadata": {},
     "output_type": "execute_result"
    }
   ],
   "source": [
    "np.dot( test_m, A[:4, :4] )"
   ]
  },
  {
   "cell_type": "code",
   "execution_count": 459,
   "metadata": {
    "ExecuteTime": {
     "end_time": "2020-10-28T19:54:42.212881Z",
     "start_time": "2020-10-28T19:54:42.190789Z"
    }
   },
   "outputs": [
    {
     "data": {
      "text/plain": [
       "array([[0.75120517, 0.90705693, 0.07810624, 0.19401543, 0.94099356,\n",
       "        0.51963258, 0.47000509, 0.2579761 ],\n",
       "       [0.47276097, 0.81688578, 0.12805137, 0.59224093, 0.98760485,\n",
       "        0.63180237, 0.98090944, 0.39481237],\n",
       "       [0.40355869, 0.37124198, 0.31184075, 0.39820999, 0.28018527,\n",
       "        0.40662815, 0.94806892, 0.7709125 ],\n",
       "       [0.95983786, 0.20603088, 0.37780736, 0.19832483, 0.97972776,\n",
       "        0.84955826, 0.79433534, 0.32149026],\n",
       "       [0.60331829, 0.68588193, 0.37728137, 0.86797153, 0.46768063,\n",
       "        0.27069545, 0.68452116, 0.06509385],\n",
       "       [0.49653628, 0.65873772, 0.72850809, 0.52224599, 0.5618743 ,\n",
       "        0.48881368, 0.10579398, 0.39024129],\n",
       "       [0.42204114, 0.99261446, 0.89545409, 0.30131875, 0.62804943,\n",
       "        0.96105577, 0.04507958, 0.58250447],\n",
       "       [0.42327399, 0.05101325, 0.96406732, 0.47604071, 0.86294975,\n",
       "        0.45675055, 0.1607555 , 0.49931809]])"
      ]
     },
     "execution_count": 459,
     "metadata": {},
     "output_type": "execute_result"
    }
   ],
   "source": [
    "A"
   ]
  },
  {
   "cell_type": "code",
   "execution_count": null,
   "metadata": {},
   "outputs": [],
   "source": [
    "strassen([2, 2])"
   ]
  }
 ],
 "metadata": {
  "kernelspec": {
   "display_name": "Python 3",
   "language": "python",
   "name": "python3"
  },
  "language_info": {
   "codemirror_mode": {
    "name": "ipython",
    "version": 3
   },
   "file_extension": ".py",
   "mimetype": "text/x-python",
   "name": "python",
   "nbconvert_exporter": "python",
   "pygments_lexer": "ipython3",
   "version": "3.8.5"
  }
 },
 "nbformat": 4,
 "nbformat_minor": 4
}
