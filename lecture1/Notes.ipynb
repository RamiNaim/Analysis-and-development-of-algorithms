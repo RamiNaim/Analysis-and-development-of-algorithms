{
 "cells": [
  {
   "cell_type": "markdown",
   "metadata": {},
   "source": [
    "# Optimisation problem\n",
    "### Optimisation methods a the methods for finding optimal (in some sense) solution for mathematical model"
   ]
  },
  {
   "cell_type": "markdown",
   "metadata": {},
   "source": [
    "### Optimisation problem\n",
    "\n",
    "To solve the optimistaion problem $ f(x) \\rightarrow max_{x \\in Q} (min_{x \\in Q}) $ means to find such $x^* \\in Q$, where $ Q $ is the region of acceptability, such that $ f $ reaches the maximal (minimum) value at $x^*$.\n",
    "#### Notation:\n",
    "$x^* = arg max_{x \\in Q}  (min_{x \\in Q}) f(x) $. If $ x^* $ is known we can clearly find $f(x^*)$."
   ]
  },
  {
   "cell_type": "markdown",
   "metadata": {},
   "source": [
    "## Problem type: Unconstrained non-linear optimisation"
   ]
  },
  {
   "cell_type": "markdown",
   "metadata": {},
   "source": [
    "#### $Q$ may be:\n",
    "\n",
    " -- not definded (or reduced to not defined) (unconstrained optmisation).\n",
    " For example, minimise $ f(x) = x^2 $ for $ x \\in [-1; 1] $ (i.e. $Q$ is defined) $ \\rightarrow $ "
   ]
  },
  {
   "cell_type": "markdown",
   "metadata": {},
   "source": [
    "## Methods for minimisation\n",
    "Information about $ f \\rightarrow \\textbf{direct, first-order or second-order} $ methods.\n",
    "\n",
    "### Direct methods of zero-order methods\n",
    "only values of $f$ (but not those of its derivatives) are used.\n",
    " + Avaliable for wide class of fucntion\n",
    " - Slow convergence\n",
    " \n",
    "### First-order methods\n",
    "values of $f$ and $f'$ are used (gradients methods).\n",
    "+ Relatively fast convergence\n",
    "- We need to know the analytic expression of $f$ and $f'$\n",
    "\n",
    "\n",
    "### Second-order methods\n",
    "values of $f$, $f'$, $f''$ are used (Newtonian methods).\n",
    "+ Fast convergence\n",
    "- Need to know the analytic expression of $f, f', f''$"
   ]
  },
  {
   "cell_type": "markdown",
   "metadata": {},
   "source": [
    "### Exhaustive search (brute-force method)\n",
    "\n",
    "Let $f(x): [a,b] \\rightarrow R $. Approximately solve the optimisation problem $f(x) \\rightarrow min_{x \\in [a, b]}()$ by finding $x^*$ with error $\\varepsilon > 0$"
   ]
  },
  {
   "cell_type": "code",
   "execution_count": null,
   "metadata": {},
   "outputs": [],
   "source": []
  }
 ],
 "metadata": {
  "kernelspec": {
   "display_name": "Python 3",
   "language": "python",
   "name": "python3"
  },
  "language_info": {
   "codemirror_mode": {
    "name": "ipython",
    "version": 3
   },
   "file_extension": ".py",
   "mimetype": "text/x-python",
   "name": "python",
   "nbconvert_exporter": "python",
   "pygments_lexer": "ipython3",
   "version": "3.7.4"
  }
 },
 "nbformat": 4,
 "nbformat_minor": 2
}
